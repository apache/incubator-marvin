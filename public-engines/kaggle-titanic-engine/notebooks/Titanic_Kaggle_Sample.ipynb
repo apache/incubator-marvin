{
 "cells": [
  {
   "cell_type": "markdown",
   "metadata": {},
   "source": [
    "# Documentation"
   ]
  },
  {
   "cell_type": "markdown",
   "metadata": {},
   "source": [
    "# Sample Notebook To Build a Model and Make Predictions with the Titanic Dataset from Kaggle"
   ]
  },
  {
   "cell_type": "markdown",
   "metadata": {},
   "source": [
    "Table of Contents\n",
    "\n",
    "0. [Params](#Params)\n",
    "1. [Acquisitor and Cleaner](#Acquisitor-and-Cleaner)\n",
    "2. [Training Preparator](#Training-Preparator)\n",
    "3. [Trainer](#Trainer)\n",
    "4. [Metrics Evaluator](#Metrics-Evaluator)\n",
    "5. [Prediction Preparator](#Prediction-Preparator)\n",
    "6. [Predictor](#Predictor)\n",
    "7. [Feedback](#Feedback)\n",
    "8. [Sample Application](#Sample-Application)"
   ]
  },
  {
   "cell_type": "markdown",
   "metadata": {},
   "source": [
    "# Params"
   ]
  },
  {
   "cell_type": "code",
   "execution_count": 2,
   "metadata": {},
   "outputs": [],
   "source": [
    "# puts this params in engine.params file to be used by dryrun and executor as default params\n",
    "# use a full grid over all parameters\n",
    "params = {\n",
    "    \"svm\": [\n",
    "        {\"C\": [1, 10, 100], \"gamma\": [0.01, 0.001], \"kernel\": [\"linear\"]},\n",
    "        {\"C\": [1, 10, 100],\"gamma\": [0.01, 0.001],\"kernel\": [\"rbf\"]}\n",
    "    ],\n",
    "    \"rf\": {\n",
    "        \"max_depth\": [3],\n",
    "        \"random_state\": [0],\n",
    "        \"min_samples_split\": [2],\n",
    "        \"min_samples_leaf\": [1],\n",
    "        \"n_estimators\": [20],\n",
    "        \"bootstrap\": [True, False],\n",
    "        \"criterion\": [\"gini\", \"entropy\"]\n",
    "    },\n",
    "    \"pred_cols\": [\"Age\", \"Pclass\", \"Sex\", \"Fare\"],\n",
    "    \"dep_var\": \"Survived\"\n",
    "}"
   ]
  },
  {
   "cell_type": "code",
   "execution_count": 3,
   "metadata": {
    "marvin_cell": "acquisitor"
   },
   "outputs": [
    {
     "name": "stdout",
     "output_type": "stream",
     "text": [
      "891 samples to train with 12 features...\n",
      "418 samples to test...\n"
     ]
    }
   ],
   "source": [
    "from marvin_python_toolbox.common.data import MarvinData\n",
    "import pandas as pd\n",
    "\n",
    "train_df = pd.read_csv(MarvinData.download_file(\"https://s3.amazonaws.com/marvin-engines-data/titanic/train.csv\"))\n",
    "test_df = pd.read_csv(MarvinData.download_file(\"https://s3.amazonaws.com/marvin-engines-data/titanic/test.csv\"))\n",
    "\n",
    "print (\"{} samples to train with {} features...\".format(train_df.shape[0], train_df.shape[1]))\n",
    "print (\"{} samples to test...\".format(test_df.shape[0]))\n",
    "\n",
    "marvin_initial_dataset = {\n",
    "    'train': train_df,\n",
    "    'test': test_df\n",
    "}"
   ]
  },
  {
   "cell_type": "markdown",
   "metadata": {},
   "source": [
    "# Training Preparator"
   ]
  },
  {
   "cell_type": "code",
   "execution_count": 4,
   "metadata": {
    "marvin_cell": "tpreparator"
   },
   "outputs": [
    {
     "name": "stdout",
     "output_type": "stream",
     "text": [
      "Length: 714\n",
      "Length: 331\n",
      "Preparation is Done!!!!\n"
     ]
    },
    {
     "name": "stderr",
     "output_type": "stream",
     "text": [
      "/home/vagrant/.virtualenvs/titanic-engine-env/local/lib/python2.7/site-packages/pandas/core/indexing.py:517: SettingWithCopyWarning: \n",
      "A value is trying to be set on a copy of a slice from a DataFrame.\n",
      "Try using .loc[row_indexer,col_indexer] = value instead\n",
      "\n",
      "See the caveats in the documentation: http://pandas.pydata.org/pandas-docs/stable/indexing.html#indexing-view-versus-copy\n",
      "  self.obj[item] = s\n"
     ]
    }
   ],
   "source": [
    "from sklearn.model_selection import StratifiedShuffleSplit, train_test_split, cross_val_score, GridSearchCV\n",
    "\n",
    "train_no_na = marvin_initial_dataset['train'][params[\"pred_cols\"] + [params[\"dep_var\"]]].dropna()\n",
    "\n",
    "print(\"Length: {}\".format(len(train_no_na)))\n",
    "\n",
    "# Feature Engineering\n",
    "data_X = train_no_na[params[\"pred_cols\"]]\n",
    "data_X.loc[:, 'Sex'] = data_X.loc[:, 'Sex'].map({'male': 1, 'female': 0})\n",
    "data_y = train_no_na[params[\"dep_var\"]]\n",
    "\n",
    "# Prepare for Stratified Shuffle Split\n",
    "sss = StratifiedShuffleSplit(n_splits=5, test_size=.6, random_state=0)\n",
    "sss.get_n_splits(data_X, data_y)\n",
    "\n",
    "# Get Test Dataset\n",
    "test_no_na = marvin_initial_dataset['test'][params[\"pred_cols\"]].dropna()\n",
    "\n",
    "print(\"Length: {}\".format(len(test_no_na)))\n",
    "\n",
    "# Feature Engineering\n",
    "test_X = test_no_na[params[\"pred_cols\"]]\n",
    "test_X.loc[:, 'Sex'] = test_X.loc[:, 'Sex'].map({'male': 1, 'female': 0})\n",
    "\n",
    "marvin_dataset = {\n",
    "    'X_train': data_X,\n",
    "    'y_train': data_y,\n",
    "    'X_test': test_X,\n",
    "    'sss': sss\n",
    "}\n",
    "\n",
    "print (\"Preparation is Done!!!!\")"
   ]
  },
  {
   "cell_type": "markdown",
   "metadata": {},
   "source": [
    "# Trainer"
   ]
  },
  {
   "cell_type": "code",
   "execution_count": 5,
   "metadata": {
    "marvin_cell": "trainer"
   },
   "outputs": [
    {
     "name": "stdout",
     "output_type": "stream",
     "text": [
      "\n",
      "\n",
      "Starting grid search using SVM!\n",
      "Model Type: SVM\n",
      "{'kernel': 'linear', 'C': 10, 'verbose': False, 'probability': False, 'degree': 3, 'shrinking': True, 'max_iter': -1, 'decision_function_shape': None, 'random_state': None, 'tol': 0.001, 'cache_size': 200, 'coef0': 0.0, 'gamma': 0.01, 'class_weight': None}\n",
      "Accuracy Score: 0.78%\n",
      "\n",
      "\n",
      "Starting grid search using RandomForestClassifier!\n",
      "Model Type: RF\n",
      "{'warm_start': False, 'oob_score': False, 'n_jobs': 1, 'verbose': 0, 'max_leaf_nodes': None, 'bootstrap': True, 'min_samples_leaf': 1, 'n_estimators': 20, 'min_samples_split': 2, 'min_weight_fraction_leaf': 0.0, 'criterion': 'entropy', 'random_state': 0, 'min_impurity_split': 1e-07, 'max_features': 'auto', 'max_depth': 3, 'class_weight': None}\n",
      "Accuracy Score: 0.7925%\n"
     ]
    }
   ],
   "source": [
    "from sklearn import svm, neighbors, tree\n",
    "from sklearn.model_selection import StratifiedShuffleSplit, train_test_split, cross_val_score, GridSearchCV\n",
    "from sklearn.ensemble import RandomForestClassifier\n",
    "from sklearn.preprocessing import StandardScaler, scale\n",
    "from sklearn.linear_model import LogisticRegression\n",
    "\n",
    "print(\"\\n\\nStarting grid search using SVM!\")\n",
    "\n",
    "# Create a classifier with the parameter candidates\n",
    "svm_grid = GridSearchCV(estimator=svm.SVC(), param_grid=params[\"svm\"], cv=marvin_dataset[\"sss\"], n_jobs=-1)\n",
    "\n",
    "# Train the classifier on training data\n",
    "svm_grid.fit(\n",
    "    marvin_dataset['X_train'],\n",
    "    marvin_dataset['y_train']\n",
    ")\n",
    "\n",
    "print(\"Model Type: SVM\\n{}\".format(svm_grid.best_estimator_.get_params()))\n",
    "print(\"Accuracy Score: {}%\".format(round(svm_grid.best_score_,4)))\n",
    "\n",
    "print(\"\\n\\nStarting grid search using RandomForestClassifier!\")\n",
    "\n",
    "# run grid search\n",
    "rf_grid = GridSearchCV(estimator=RandomForestClassifier(), param_grid=params[\"rf\"], cv=marvin_dataset[\"sss\"])\n",
    "rf_grid.fit(\n",
    "    marvin_dataset['X_train'],\n",
    "    marvin_dataset['y_train']\n",
    ")\n",
    "\n",
    "print(\"Model Type: RF\\n{}\".format(rf_grid.best_estimator_.get_params()))\n",
    "print(\"Accuracy Score: {}%\".format(round(rf_grid.best_score_,4)))\n",
    "\n",
    "marvin_model = {\n",
    "    'svm': svm_grid,\n",
    "    'rf': rf_grid\n",
    "}"
   ]
  },
  {
   "cell_type": "markdown",
   "metadata": {},
   "source": [
    "# Metrics Evaluation"
   ]
  },
  {
   "cell_type": "code",
   "execution_count": 6,
   "metadata": {
    "marvin_cell": "evaluator"
   },
   "outputs": [
    {
     "name": "stdout",
     "output_type": "stream",
     "text": [
      "Classification Report:\n",
      "\n",
      "             precision    recall  f1-score   support\n",
      "\n",
      "          0       0.95      0.79      0.86       512\n",
      "          1       0.62      0.90      0.74       202\n",
      "\n",
      "avg / total       0.86      0.82      0.83       714\n",
      "\n",
      "Confusion Matrix:\n",
      "\n",
      "[[403 109]\n",
      " [ 21 181]]\n",
      "\n",
      "\n",
      "\n",
      "Classification Report:\n",
      "\n",
      "             precision    recall  f1-score   support\n",
      "\n",
      "          0       0.85      0.79      0.82       453\n",
      "          1       0.68      0.75      0.72       261\n",
      "\n",
      "avg / total       0.79      0.78      0.78       714\n",
      "\n",
      "Confusion Matrix:\n",
      "\n",
      "[[360  93]\n",
      " [ 64 197]]\n",
      "\n",
      "\n",
      "\n",
      "Feature ranking:\n",
      "1. feature Sex (0.542498)\n",
      "2. feature Pclass (0.184832)\n",
      "3. feature Fare (0.170240)\n",
      "4. feature Age (0.102431)\n"
     ]
    }
   ],
   "source": [
    "from sklearn import metrics\n",
    "import numpy as np\n",
    "\n",
    "all_metrics = {}\n",
    "\n",
    "_model = marvin_model\n",
    "for model_type, fitted_model in _model.iteritems():\n",
    "    \n",
    "    y_predicted = fitted_model.predict(marvin_dataset['X_train'])\n",
    "    \n",
    "    all_metrics[model_type] = {}\n",
    "    all_metrics[model_type][\"report\"] = metrics.classification_report(y_predicted, marvin_dataset['y_train'])\n",
    "    all_metrics[model_type][\"confusion_matrix\"] = metrics.confusion_matrix(y_predicted, marvin_dataset['y_train'])                                                               \n",
    "    \n",
    "    # Print the classification report of `y_test` and `predicted`\n",
    "    print(\"Classification Report:\\n\")\n",
    "    print(all_metrics[model_type][\"report\"])\n",
    "    \n",
    "    # Print the confusion matrix\n",
    "    print(\"Confusion Matrix:\\n\")\n",
    "    print(all_metrics[model_type][\"confusion_matrix\"])\n",
    "    print(\"\\n\\n\")\n",
    "\n",
    "importances = _model[\"rf\"].best_estimator_.feature_importances_\n",
    "indices = np.argsort(importances)[::-1]\n",
    "\n",
    "# Print the feature ranking\n",
    "print(\"Feature ranking:\")\n",
    "\n",
    "all_metrics[\"feature_ranking\"] = []\n",
    "for f in range(marvin_dataset['X_train'].shape[1]):\n",
    "    all_metrics[\"feature_ranking\"].append((f + 1, params[\"pred_cols\"][indices[f]], importances[indices[f]]))\n",
    "    print(\"%d. feature %s (%f)\" % all_metrics[\"feature_ranking\"][f])\n",
    "\n",
    "marvin_metrics = all_metrics"
   ]
  },
  {
   "cell_type": "code",
   "execution_count": 8,
   "metadata": {},
   "outputs": [
    {
     "data": {
      "image/png": "[encoded data removed]",
      "text/plain": [
       "<matplotlib.figure.Figure at 0x7fc33cf95190>"
      ]
     },
     "metadata": {},
     "output_type": "display_data"
    }
   ],
   "source": [
    "import matplotlib.pyplot as plt\n",
    "%matplotlib inline\n",
    "\n",
    "# Plot the feature importances of the forest\n",
    "plt.figure(figsize=(10,5))\n",
    "plt.title(\"Feature importances\")\n",
    "plt.bar(range(marvin_dataset[\"X_train\"].shape[1]), importances[indices], color=\"r\",  align=\"center\")\n",
    "\n",
    "stats_order = [params[\"pred_cols\"][x] for x in indices]\n",
    "\n",
    "plt.xticks(range(marvin_dataset['X_train'].shape[1]), stats_order, rotation='vertical')\n",
    "plt.xlim([-1, marvin_dataset['X_train'].shape[1]])\n",
    "plt.show()"
   ]
  },
  {
   "cell_type": "markdown",
   "metadata": {},
   "source": [
    "# Prediction Preparator"
   ]
  },
  {
   "cell_type": "code",
   "execution_count": 33,
   "metadata": {},
   "outputs": [],
   "source": [
    "# put this values in engine.messages to be used as dryrun samples\n",
    "# age, class, sex\n",
    "# reminder: 'male': 1, 'female': 0\n",
    "input_message = {\"Age\": 50, \"Pclass\": 3, \"Sex\": 0, \"Fare\": 5}"
   ]
  },
  {
   "cell_type": "code",
   "execution_count": 34,
   "metadata": {
    "marvin_cell": "ppreparator"
   },
   "outputs": [],
   "source": [
    "# Given the input: input_message = {\"age\": 50, \"class\": 3, \"sex\": 0}\n",
    "# Transform the message into a correctly ordered list for the model\n",
    "\n",
    "key_order = {\"Age\":0, \"Pclass\":1, \"Sex\":2, \"Fare\":3}\n",
    "input_message = [input_message[i] for i in sorted(input_message, key=key_order.__getitem__)]"
   ]
  },
  {
   "cell_type": "markdown",
   "metadata": {},
   "source": [
    "# Predictor"
   ]
  },
  {
   "cell_type": "code",
   "execution_count": 35,
   "metadata": {
    "marvin_cell": "predictor"
   },
   "outputs": [
    {
     "name": "stdout",
     "output_type": "stream",
     "text": [
      "{'prediction_svm': 1, 'prediction_rf': 0}\n"
     ]
    }
   ],
   "source": [
    "final_prediction = {\n",
    "    \"prediction_rf\": marvin_model['rf'].predict([input_message])[0],\n",
    "    \"prediction_svm\": marvin_model['svm'].predict([input_message])[0]\n",
    "}\n",
    "\n",
    "print(final_prediction)"
   ]
  },
  {
   "cell_type": "markdown",
   "metadata": {},
   "source": [
    "# Sample Application"
   ]
  },
  {
   "cell_type": "code",
   "execution_count": 45,
   "metadata": {},
   "outputs": [
    {
     "name": "stdout",
     "output_type": "stream",
     "text": [
      "Passenger Information: {'Fare': 7.8292000000000002, 'Age': 34.5, 'Pclass': 3.0, 'Sex': 1.0}\n",
      "Prediction: {'prediction_svm': 0, 'prediction_rf': 0}\n",
      "\n",
      "Passenger Information: {'Fare': 7.0, 'Age': 47.0, 'Pclass': 3.0, 'Sex': 0.0}\n",
      "Prediction: {'prediction_svm': 1, 'prediction_rf': 0}\n",
      "\n",
      "Passenger Information: {'Fare': 9.6875, 'Age': 62.0, 'Pclass': 2.0, 'Sex': 1.0}\n",
      "Prediction: {'prediction_svm': 0, 'prediction_rf': 0}\n",
      "\n",
      "Passenger Information: {'Fare': 8.6624999999999996, 'Age': 27.0, 'Pclass': 3.0, 'Sex': 1.0}\n",
      "Prediction: {'prediction_svm': 0, 'prediction_rf': 0}\n",
      "\n",
      "Passenger Information: {'Fare': 12.2875, 'Age': 22.0, 'Pclass': 3.0, 'Sex': 0.0}\n",
      "Prediction: {'prediction_svm': 1, 'prediction_rf': 1}\n",
      "\n"
     ]
    }
   ],
   "source": [
    "# Take all of the entries in the test dataset and make predictions for them\n",
    "passengers = marvin_dataset[\"X_test\"].to_dict(orient='records')\n",
    "for passenger in passengers[0:5]:\n",
    "    \n",
    "    # Prediction Preparator\n",
    "    key_order = {\"Age\":0, \"Pclass\":1, \"Sex\":2, \"Fare\":3}\n",
    "    input_message = [passenger[i] for i in sorted(passenger, key=key_order.__getitem__)]\n",
    "    \n",
    "    final_prediction = {\n",
    "    \"prediction_rf\": marvin_model['rf'].predict([input_message])[0],\n",
    "    \"prediction_svm\": marvin_model['svm'].predict([input_message])[0]\n",
    "    }\n",
    "\n",
    "    print(\"Passenger Information: {0}\\nPrediction: {1}\\n\".format(passenger, final_prediction))"
   ]
  }
 ],
 "metadata": {
  "kernelspec": {
   "display_name": "Python 2",
   "language": "python",
   "name": "python2"
  },
  "language_info": {
   "codemirror_mode": {
    "name": "ipython",
    "version": 2
   },
   "file_extension": ".py",
   "mimetype": "text/x-python",
   "name": "python",
   "nbconvert_exporter": "python",
   "pygments_lexer": "ipython2",
   "version": "2.7.12"
  }
 },
 "nbformat": 4,
 "nbformat_minor": 1
}
