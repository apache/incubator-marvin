{
 "cells": [
  {
   "cell_type": "markdown",
   "metadata": {},
   "source": [
    "# Documentation"
   ]
  },
  {
   "cell_type": "markdown",
   "metadata": {},
   "source": [
    "# Sample Notebook To Build a Model and Make Predictions with the Titanic Dataset from Kaggle"
   ]
  },
  {
   "cell_type": "markdown",
   "metadata": {},
   "source": [
    "Table of Contents\n",
    "\n",
    "0. [Params](#Params)\n",
    "1. [Acquisitor and Cleaner](#Acquisitor-and-Cleaner)\n",
    "2. [Training Preparator](#Training-Preparator)\n",
    "3. [Trainer](#Trainer)\n",
    "4. [Metrics Evaluator](#Metrics-Evaluator)\n",
    "5. [Prediction Preparator](#Prediction-Preparator)\n",
    "6. [Predictor](#Predictor)\n",
    "7. [Feedback](#Feedback)"
   ]
  },
  {
   "cell_type": "markdown",
   "metadata": {},
   "source": [
    "# Params"
   ]
  },
  {
   "cell_type": "code",
   "execution_count": 1,
   "metadata": {},
   "outputs": [],
   "source": [
    "# puts this params in engine.params file to be used by dryrun and executor as default params\n",
    "# use a full grid over all parameters\n",
    "params = {\n",
    "    \"svm\": [\n",
    "        {\"C\": [1, 10, 100], \"gamma\": [0.01, 0.001], \"kernel\": [\"linear\"]},\n",
    "        {\"C\": [1, 10, 100],\"gamma\": [0.01, 0.001],\"kernel\": [\"rbf\"]}\n",
    "    ],\n",
    "    \"rf\": {\n",
    "        \"max_depth\": [3],\n",
    "        \"random_state\": [0],\n",
    "        \"min_samples_split\": [2],\n",
    "        \"min_samples_leaf\": [1],\n",
    "        \"n_estimators\": [20],\n",
    "        \"bootstrap\": [True, False],\n",
    "        \"criterion\": [\"gini\", \"entropy\"]\n",
    "    },\n",
    "    \"pred_cols\": [\"Age\", \"Pclass\", \"Sex\", \"Fare\"],\n",
    "    \"dep_var\": \"Survived\"\n",
    "}"
   ]
  },
  {
   "cell_type": "code",
   "execution_count": 2,
   "metadata": {
    "marvin_cell": "acquisitor"
   },
   "outputs": [
    {
     "name": "stdout",
     "output_type": "stream",
     "text": [
      "891 samples to train with 12 features...\n",
      "418 samples to test...\n"
     ]
    }
   ],
   "source": [
    "from marvin_python_toolbox.common.data import MarvinData\n",
    "import pandas as pd\n",
    "\n",
    "train_df = pd.read_csv(MarvinData.download_file(\"https://s3.amazonaws.com/marvin-engines-data/titanic/train.csv\"))\n",
    "test_df = pd.read_csv(MarvinData.download_file(\"https://s3.amazonaws.com/marvin-engines-data/titanic/test.csv\"))\n",
    "\n",
    "print (\"{} samples to train with {} features...\".format(train_df.shape[0], train_df.shape[1]))\n",
    "print (\"{} samples to test...\".format(test_df.shape[0]))\n",
    "\n",
    "marvin_initial_dataset = {\n",
    "    'train': train_df,\n",
    "    'test': test_df\n",
    "}"
   ]
  },
  {
   "cell_type": "markdown",
   "metadata": {},
   "source": [
    "# Training Preparator"
   ]
  },
  {
   "cell_type": "code",
   "execution_count": 4,
   "metadata": {
    "marvin_cell": "tpreparator"
   },
   "outputs": [
    {
     "name": "stdout",
     "output_type": "stream",
     "text": [
      "Length: 714\n",
      "Preparation is Done!!!!\n"
     ]
    }
   ],
   "source": [
    "from sklearn.model_selection import StratifiedShuffleSplit, train_test_split, cross_val_score, GridSearchCV\n",
    "\n",
    "train_no_na = marvin_initial_dataset['train'][params[\"pred_cols\"] + [params[\"dep_var\"]]].dropna()\n",
    "\n",
    "print(\"Length: {}\".format(len(train_no_na)))\n",
    "\n",
    "# Feature Engineering\n",
    "data_X = train_no_na[params[\"pred_cols\"]]\n",
    "data_X.loc[:, 'Sex'] = data_X.loc[:, 'Sex'].map({'male': 1, 'female': 0})\n",
    "data_y = train_no_na[params[\"dep_var\"]]\n",
    "\n",
    "# Prepare for Stratified Shuffle Split\n",
    "sss = StratifiedShuffleSplit(n_splits=5, test_size=.6, random_state=0)\n",
    "sss.get_n_splits(data_X, data_y)\n",
    "\n",
    "for train_index, test_index in sss.split(data_X, data_y):\n",
    "    X_train, X_test = data_X.iloc[train_index], data_X.iloc[test_index]\n",
    "    y_train, y_test = data_y.iloc[train_index], data_y.iloc[test_index]\n",
    "\n",
    "marvin_dataset = {\n",
    "    'X_train': X_train,\n",
    "    'y_train': y_train,\n",
    "    'X_test': X_test,\n",
    "    'y_test': y_test,\n",
    "    'sss': sss\n",
    "}\n",
    "\n",
    "print (\"Preparation is Done!!!!\")"
   ]
  },
  {
   "cell_type": "markdown",
   "metadata": {},
   "source": [
    "# Trainer"
   ]
  },
  {
   "cell_type": "code",
   "execution_count": 5,
   "metadata": {
    "marvin_cell": "trainer"
   },
   "outputs": [
    {
     "name": "stdout",
     "output_type": "stream",
     "text": [
      "\n",
      "\n",
      "Starting grid search using SVM!\n",
      "Model Type: SVM\n",
      "{'kernel': 'linear', 'C': 1, 'verbose': False, 'probability': False, 'degree': 3, 'shrinking': True, 'max_iter': -1, 'decision_function_shape': None, 'random_state': None, 'tol': 0.001, 'cache_size': 200, 'coef0': 0.0, 'gamma': 0.01, 'class_weight': None}\n",
      "Accuracy Score: 0.7825%\n",
      "\n",
      "\n",
      "Starting grid search using RandomForestClassifier!\n",
      "Model Type: RF\n",
      "{'warm_start': False, 'oob_score': False, 'n_jobs': 1, 'verbose': 0, 'max_leaf_nodes': None, 'bootstrap': False, 'min_samples_leaf': 1, 'n_estimators': 20, 'min_samples_split': 2, 'min_weight_fraction_leaf': 0.0, 'criterion': 'entropy', 'random_state': 0, 'min_impurity_split': 1e-07, 'max_features': 'auto', 'max_depth': 3, 'class_weight': None}\n",
      "Accuracy Score: 0.7754%\n"
     ]
    }
   ],
   "source": [
    "from sklearn import svm, neighbors, tree\n",
    "from sklearn.model_selection import StratifiedShuffleSplit, train_test_split, cross_val_score, GridSearchCV\n",
    "from sklearn.ensemble import RandomForestClassifier\n",
    "from sklearn.preprocessing import StandardScaler, scale\n",
    "from sklearn.linear_model import LogisticRegression\n",
    "\n",
    "print(\"\\n\\nStarting grid search using SVM!\")\n",
    "\n",
    "# Create a classifier with the parameter candidates\n",
    "svm_grid = GridSearchCV(estimator=svm.SVC(), param_grid=params[\"svm\"], n_jobs=-1)\n",
    "\n",
    "# Train the classifier on training data\n",
    "svm_grid.fit(\n",
    "    marvin_dataset['X_train'],\n",
    "    marvin_dataset['y_train']\n",
    ")\n",
    "\n",
    "print(\"Model Type: SVM\\n{}\".format(svm_grid.best_estimator_.get_params()))\n",
    "print(\"Accuracy Score: {}%\".format(round(svm_grid.best_score_,4)))\n",
    "\n",
    "print(\"\\n\\nStarting grid search using RandomForestClassifier!\")\n",
    "\n",
    "# run grid search\n",
    "rf_grid = GridSearchCV(estimator=RandomForestClassifier(), param_grid=params[\"rf\"])\n",
    "rf_grid.fit(\n",
    "    marvin_dataset['X_train'],\n",
    "    marvin_dataset['y_train']\n",
    ")\n",
    "\n",
    "print(\"Model Type: RF\\n{}\".format(rf_grid.best_estimator_.get_params()))\n",
    "print(\"Accuracy Score: {}%\".format(round(rf_grid.best_score_,4)))\n",
    "\n",
    "marvin_model = {\n",
    "    'svm': svm_grid,\n",
    "    'rf': rf_grid\n",
    "}"
   ]
  },
  {
   "cell_type": "markdown",
   "metadata": {},
   "source": [
    "# Metrics Evaluation"
   ]
  },
  {
   "cell_type": "code",
   "execution_count": 6,
   "metadata": {
    "marvin_cell": "evaluator"
   },
   "outputs": [
    {
     "name": "stdout",
     "output_type": "stream",
     "text": [
      "Classification Report:\n",
      "\n",
      "             precision    recall  f1-score   support\n",
      "\n",
      "          0       0.82      0.81      0.81       257\n",
      "          1       0.72      0.73      0.72       172\n",
      "\n",
      "avg / total       0.78      0.78      0.78       429\n",
      "\n",
      "Confusion Matrix:\n",
      "\n",
      "[[208  49]\n",
      " [ 47 125]]\n",
      "\n",
      "\n",
      "\n",
      "Classification Report:\n",
      "\n",
      "             precision    recall  f1-score   support\n",
      "\n",
      "          0       0.83      0.80      0.82       264\n",
      "          1       0.70      0.74      0.72       165\n",
      "\n",
      "avg / total       0.78      0.78      0.78       429\n",
      "\n",
      "Confusion Matrix:\n",
      "\n",
      "[[212  52]\n",
      " [ 43 122]]\n",
      "\n",
      "\n",
      "\n",
      "Feature ranking:\n",
      "1. feature Sex (0.492621)\n",
      "2. feature Fare (0.256981)\n",
      "3. feature Pclass (0.141660)\n",
      "4. feature Age (0.108738)\n"
     ]
    }
   ],
   "source": [
    "from sklearn import metrics\n",
    "import numpy as np\n",
    "\n",
    "all_metrics = {}\n",
    "\n",
    "_model = marvin_model\n",
    "for model_type, fitted_model in _model.iteritems():\n",
    "    \n",
    "    y_predicted = fitted_model.predict(marvin_dataset['X_test'])\n",
    "    \n",
    "    all_metrics[model_type] = {}\n",
    "    all_metrics[model_type][\"report\"] = metrics.classification_report(y_predicted, marvin_dataset['y_test'])\n",
    "    all_metrics[model_type][\"confusion_matrix\"] = metrics.confusion_matrix(y_predicted, marvin_dataset['y_test'])                                                               \n",
    "    \n",
    "    # Print the classification report of `y_test` and `predicted`\n",
    "    print(\"Classification Report:\\n\")\n",
    "    print(all_metrics[model_type][\"report\"])\n",
    "    \n",
    "    # Print the confusion matrix\n",
    "    print(\"Confusion Matrix:\\n\")\n",
    "    print(all_metrics[model_type][\"confusion_matrix\"])\n",
    "    print(\"\\n\\n\")\n",
    "\n",
    "importances = _model[\"rf\"].best_estimator_.feature_importances_\n",
    "indices = np.argsort(importances)[::-1]\n",
    "\n",
    "# Print the feature ranking\n",
    "print(\"Feature ranking:\")\n",
    "\n",
    "all_metrics[\"feature_ranking\"] = []\n",
    "for f in range(marvin_dataset['X_train'].shape[1]):\n",
    "    all_metrics[\"feature_ranking\"].append((f + 1, params[\"pred_cols\"][indices[f]], importances[indices[f]]))\n",
    "    print(\"%d. feature %s (%f)\" % all_metrics[\"feature_ranking\"][f])\n",
    "\n",
    "marvin_metrics = all_metrics"
   ]
  },
  {
   "cell_type": "code",
   "execution_count": 7,
   "metadata": {},
   "outputs": [
    {
     "data": {
      "image/png": "[encoded data removed]",
      "text/plain": [
       "<matplotlib.figure.Figure at 0x7f6530cd9e90>"
      ]
     },
     "metadata": {},
     "output_type": "display_data"
    }
   ],
   "source": [
    "import matplotlib.pyplot as plt\n",
    "%matplotlib inline\n",
    "\n",
    "# Plot the feature importances of the forest\n",
    "plt.figure(figsize=(10,5))\n",
    "plt.title(\"Feature importances\")\n",
    "plt.bar(range(X_train.shape[1]), importances[indices], color=\"r\",  align=\"center\")\n",
    "\n",
    "stats_order = [params[\"pred_cols\"][x] for x in indices]\n",
    "\n",
    "plt.xticks(range(marvin_dataset['X_train'].shape[1]), stats_order, rotation='vertical')\n",
    "plt.xlim([-1, marvin_dataset['X_train'].shape[1]])\n",
    "plt.show()"
   ]
  },
  {
   "cell_type": "markdown",
   "metadata": {},
   "source": [
    "# Prediction Preparator"
   ]
  },
  {
   "cell_type": "code",
   "execution_count": 15,
   "metadata": {},
   "outputs": [],
   "source": [
    "# put this values in engine.messages to be used as dryrun samples\n",
    "# age, class, sex\n",
    "# reminder: 'male': 1, 'female': 0\n",
    "input_message = {\"age\": 50, \"class\": 3, \"sex\": 0, \"fare\": 5}"
   ]
  },
  {
   "cell_type": "code",
   "execution_count": 16,
   "metadata": {
    "marvin_cell": "ppreparator"
   },
   "outputs": [],
   "source": [
    "# Given the input: input_message = {\"age\": 50, \"class\": 3, \"sex\": 0}\n",
    "# Transform the message into a correctly ordered list for the model\n",
    "\n",
    "key_order = {\"age\":0, \"class\":1, \"sex\":2, \"fare\":3}\n",
    "input_message = [input_message[i] for i in sorted(input_message, key=key_order.__getitem__)]"
   ]
  },
  {
   "cell_type": "markdown",
   "metadata": {},
   "source": [
    "# Predictor"
   ]
  },
  {
   "cell_type": "code",
   "execution_count": 17,
   "metadata": {
    "marvin_cell": "predictor"
   },
   "outputs": [
    {
     "name": "stdout",
     "output_type": "stream",
     "text": [
      "{'prediction_svm': 1, 'prediction_rf': 0}\n"
     ]
    }
   ],
   "source": [
    "final_prediction = {\n",
    "    \"prediction_rf\": marvin_model['rf'].predict([input_message])[0],\n",
    "    \"prediction_svm\": marvin_model['svm'].predict([input_message])[0]\n",
    "}\n",
    "\n",
    "print(final_prediction)"
   ]
  },
  {
   "cell_type": "code",
   "execution_count": null,
   "metadata": {},
   "outputs": [],
   "source": []
  }
 ],
 "metadata": {
  "kernelspec": {
   "display_name": "Python 2",
   "language": "python",
   "name": "python2"
  },
  "language_info": {
   "codemirror_mode": {
    "name": "ipython",
    "version": 2
   },
   "file_extension": ".py",
   "mimetype": "text/x-python",
   "name": "python",
   "nbconvert_exporter": "python",
   "pygments_lexer": "ipython2",
   "version": "2.7.6"
  }
 },
 "nbformat": 4,
 "nbformat_minor": 1
}
