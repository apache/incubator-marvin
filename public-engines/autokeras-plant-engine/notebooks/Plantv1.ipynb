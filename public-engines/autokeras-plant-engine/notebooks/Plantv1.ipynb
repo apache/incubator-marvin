{
 "cells": [
  {
   "cell_type": "markdown",
   "metadata": {},
   "source": [
    "# Documentation"
   ]
  },
  {
   "cell_type": "markdown",
   "metadata": {},
   "source": [
    "# Sample Notebook To Build a Model and Make Predictions with the Plant Seedlings Dataset from Kaggle - Autokeras\n"
   ]
  },
  {
   "cell_type": "markdown",
   "metadata": {},
   "source": [
    "Table of Contents\n",
    "1. [Acquisitor and Cleaner](#Acquisitor-and-Cleaner)\n",
    "2. [Training Preparator](#Training-Preparator)\n",
    "3. [Trainer](#Trainer)\n",
    "4. [Metrics Evaluator](#Metrics-Evaluator)\n",
    "5. [Prediction Preparator](#Prediction-Preparator)\n",
    "6. [Predictor](#Predictor)"
   ]
  },
  {
   "cell_type": "markdown",
   "metadata": {},
   "source": [
    "# Acquisitor and Cleaner"
   ]
  },
  {
   "cell_type": "code",
   "execution_count": 1,
   "metadata": {
    "marvin_cell": "acquisitor"
   },
   "outputs": [
    {
     "name": "stdout",
     "output_type": "stream",
     "text": [
      "Requirement already satisfied: keras in /home/bruno/.virtualenvs/autokeras-plant-engine-env/lib/python3.7/site-packages (2.3.1)\n",
      "Requirement already satisfied: tensorflow==2.1 in /home/bruno/.virtualenvs/autokeras-plant-engine-env/lib/python3.7/site-packages (2.1.0)\n",
      "Requirement already satisfied: six>=1.9.0 in /home/bruno/.virtualenvs/autokeras-plant-engine-env/lib/python3.7/site-packages (from keras) (1.15.0)\n",
      "Requirement already satisfied: scipy>=0.14 in /home/bruno/.virtualenvs/autokeras-plant-engine-env/lib/python3.7/site-packages (from keras) (1.4.1)\n",
      "Requirement already satisfied: numpy>=1.9.1 in /home/bruno/.virtualenvs/autokeras-plant-engine-env/lib/python3.7/site-packages (from keras) (1.18.5)\n",
      "Requirement already satisfied: h5py in /home/bruno/.virtualenvs/autokeras-plant-engine-env/lib/python3.7/site-packages (from keras) (2.10.0)\n",
      "Requirement already satisfied: keras-preprocessing>=1.0.5 in /home/bruno/.virtualenvs/autokeras-plant-engine-env/lib/python3.7/site-packages (from keras) (1.1.2)\n",
      "Requirement already satisfied: keras-applications>=1.0.6 in /home/bruno/.virtualenvs/autokeras-plant-engine-env/lib/python3.7/site-packages (from keras) (1.0.8)\n",
      "Requirement already satisfied: pyyaml in /home/bruno/.virtualenvs/autokeras-plant-engine-env/lib/python3.7/site-packages (from keras) (5.3.1)\n",
      "Requirement already satisfied: grpcio>=1.8.6 in /home/bruno/.virtualenvs/autokeras-plant-engine-env/lib/python3.7/site-packages (from tensorflow==2.1) (1.29.0)\n",
      "Requirement already satisfied: gast==0.2.2 in /home/bruno/.virtualenvs/autokeras-plant-engine-env/lib/python3.7/site-packages (from tensorflow==2.1) (0.2.2)\n",
      "Requirement already satisfied: protobuf>=3.8.0 in /home/bruno/.virtualenvs/autokeras-plant-engine-env/lib/python3.7/site-packages (from tensorflow==2.1) (3.12.2)\n",
      "Requirement already satisfied: absl-py>=0.7.0 in /home/bruno/.virtualenvs/autokeras-plant-engine-env/lib/python3.7/site-packages (from tensorflow==2.1) (0.9.0)\n",
      "Requirement already satisfied: wrapt>=1.11.1 in /home/bruno/.virtualenvs/autokeras-plant-engine-env/lib/python3.7/site-packages (from tensorflow==2.1) (1.12.1)\n",
      "Requirement already satisfied: opt-einsum>=2.3.2 in /home/bruno/.virtualenvs/autokeras-plant-engine-env/lib/python3.7/site-packages (from tensorflow==2.1) (3.2.1)\n",
      "Requirement already satisfied: tensorboard<2.2.0,>=2.1.0 in /home/bruno/.virtualenvs/autokeras-plant-engine-env/lib/python3.7/site-packages (from tensorflow==2.1) (2.1.1)\n",
      "Requirement already satisfied: wheel>=0.26; python_version >= \"3\" in /home/bruno/.virtualenvs/autokeras-plant-engine-env/lib/python3.7/site-packages (from tensorflow==2.1) (0.34.2)\n",
      "Requirement already satisfied: astor>=0.6.0 in /home/bruno/.virtualenvs/autokeras-plant-engine-env/lib/python3.7/site-packages (from tensorflow==2.1) (0.8.1)\n",
      "Requirement already satisfied: tensorflow-estimator<2.2.0,>=2.1.0rc0 in /home/bruno/.virtualenvs/autokeras-plant-engine-env/lib/python3.7/site-packages (from tensorflow==2.1) (2.1.0)\n",
      "Requirement already satisfied: termcolor>=1.1.0 in /home/bruno/.virtualenvs/autokeras-plant-engine-env/lib/python3.7/site-packages (from tensorflow==2.1) (1.1.0)\n",
      "Requirement already satisfied: google-pasta>=0.1.6 in /home/bruno/.virtualenvs/autokeras-plant-engine-env/lib/python3.7/site-packages (from tensorflow==2.1) (0.2.0)\n",
      "Requirement already satisfied: setuptools in /home/bruno/.virtualenvs/autokeras-plant-engine-env/lib/python3.7/site-packages (from protobuf>=3.8.0->tensorflow==2.1) (46.4.0)\n",
      "Requirement already satisfied: markdown>=2.6.8 in /home/bruno/.virtualenvs/autokeras-plant-engine-env/lib/python3.7/site-packages (from tensorboard<2.2.0,>=2.1.0->tensorflow==2.1) (3.2.2)\n",
      "Requirement already satisfied: google-auth-oauthlib<0.5,>=0.4.1 in /home/bruno/.virtualenvs/autokeras-plant-engine-env/lib/python3.7/site-packages (from tensorboard<2.2.0,>=2.1.0->tensorflow==2.1) (0.4.1)\n",
      "Requirement already satisfied: google-auth<2,>=1.6.3 in /home/bruno/.virtualenvs/autokeras-plant-engine-env/lib/python3.7/site-packages (from tensorboard<2.2.0,>=2.1.0->tensorflow==2.1) (1.17.0)\n",
      "Requirement already satisfied: requests<3,>=2.21.0 in /home/bruno/.virtualenvs/autokeras-plant-engine-env/lib/python3.7/site-packages (from tensorboard<2.2.0,>=2.1.0->tensorflow==2.1) (2.23.0)\n",
      "Requirement already satisfied: werkzeug>=0.11.15 in /home/bruno/.virtualenvs/autokeras-plant-engine-env/lib/python3.7/site-packages (from tensorboard<2.2.0,>=2.1.0->tensorflow==2.1) (1.0.1)\n",
      "Requirement already satisfied: importlib-metadata; python_version < \"3.8\" in /home/bruno/.virtualenvs/autokeras-plant-engine-env/lib/python3.7/site-packages (from markdown>=2.6.8->tensorboard<2.2.0,>=2.1.0->tensorflow==2.1) (1.6.1)\n",
      "Requirement already satisfied: requests-oauthlib>=0.7.0 in /home/bruno/.virtualenvs/autokeras-plant-engine-env/lib/python3.7/site-packages (from google-auth-oauthlib<0.5,>=0.4.1->tensorboard<2.2.0,>=2.1.0->tensorflow==2.1) (1.3.0)\n",
      "Requirement already satisfied: cachetools<5.0,>=2.0.0 in /home/bruno/.virtualenvs/autokeras-plant-engine-env/lib/python3.7/site-packages (from google-auth<2,>=1.6.3->tensorboard<2.2.0,>=2.1.0->tensorflow==2.1) (4.1.0)\n",
      "Requirement already satisfied: rsa<5.0,>=3.1.4 in /home/bruno/.virtualenvs/autokeras-plant-engine-env/lib/python3.7/site-packages (from google-auth<2,>=1.6.3->tensorboard<2.2.0,>=2.1.0->tensorflow==2.1) (4.2)\n",
      "Requirement already satisfied: pyasn1-modules>=0.2.1 in /home/bruno/.virtualenvs/autokeras-plant-engine-env/lib/python3.7/site-packages (from google-auth<2,>=1.6.3->tensorboard<2.2.0,>=2.1.0->tensorflow==2.1) (0.2.8)\n",
      "Requirement already satisfied: urllib3!=1.25.0,!=1.25.1,<1.26,>=1.21.1 in /home/bruno/.virtualenvs/autokeras-plant-engine-env/lib/python3.7/site-packages (from requests<3,>=2.21.0->tensorboard<2.2.0,>=2.1.0->tensorflow==2.1) (1.21.1)\n",
      "Requirement already satisfied: idna<3,>=2.5 in /home/bruno/.virtualenvs/autokeras-plant-engine-env/lib/python3.7/site-packages (from requests<3,>=2.21.0->tensorboard<2.2.0,>=2.1.0->tensorflow==2.1) (2.9)\n",
      "Requirement already satisfied: certifi>=2017.4.17 in /home/bruno/.virtualenvs/autokeras-plant-engine-env/lib/python3.7/site-packages (from requests<3,>=2.21.0->tensorboard<2.2.0,>=2.1.0->tensorflow==2.1) (2020.4.5.2)\n",
      "Requirement already satisfied: chardet<4,>=3.0.2 in /home/bruno/.virtualenvs/autokeras-plant-engine-env/lib/python3.7/site-packages (from requests<3,>=2.21.0->tensorboard<2.2.0,>=2.1.0->tensorflow==2.1) (3.0.4)\n",
      "Requirement already satisfied: zipp>=0.5 in /home/bruno/.virtualenvs/autokeras-plant-engine-env/lib/python3.7/site-packages (from importlib-metadata; python_version < \"3.8\"->markdown>=2.6.8->tensorboard<2.2.0,>=2.1.0->tensorflow==2.1) (3.1.0)\n",
      "Requirement already satisfied: oauthlib>=3.0.0 in /home/bruno/.virtualenvs/autokeras-plant-engine-env/lib/python3.7/site-packages (from requests-oauthlib>=0.7.0->google-auth-oauthlib<0.5,>=0.4.1->tensorboard<2.2.0,>=2.1.0->tensorflow==2.1) (3.1.0)\n",
      "Requirement already satisfied: pyasn1>=0.1.3 in /home/bruno/.virtualenvs/autokeras-plant-engine-env/lib/python3.7/site-packages (from rsa<5.0,>=3.1.4->google-auth<2,>=1.6.3->tensorboard<2.2.0,>=2.1.0->tensorflow==2.1) (0.4.8)\n"
     ]
    },
    {
     "name": "stderr",
     "output_type": "stream",
     "text": [
      "Start fill train_dict:   0%|                        | 1/4750 [00:00<09:20,  8.47it/s]"
     ]
    },
    {
     "name": "stdout",
     "output_type": "stream",
     "text": [
      "Root:\n",
      "/home/bruno/marvin/data/plant\n",
      "Dirs:\n",
      "['train', 'test']\n",
      "Root:\n",
      "/home/bruno/marvin/data/plant/train\n",
      "Dirs:\n",
      "['Shepherds Purse', 'Maize', 'Cleavers', 'Small-flowered Cranesbill', 'Common wheat', 'Common Chickweed', 'Fat Hen', 'Charlock', 'Sugar beet', 'Scentless Mayweed', 'Black-grass', 'Loose Silky-bent']\n"
     ]
    },
    {
     "name": "stderr",
     "output_type": "stream",
     "text": [
      "Start fill train_dict: 100%|#####################| 4750/4750 [09:02<00:00,  8.75it/s]\n",
      "Start fill test_dict: 100%|########################| 794/794 [00:10<00:00, 73.22it/s]\n"
     ]
    }
   ],
   "source": [
    "!pip install keras tensorflow==2.1\n",
    "import numpy as np\n",
    "from sklearn.model_selection import train_test_split\n",
    "from marvin_python_toolbox.common.image_loader import ImageLoader\n",
    "\n",
    "marvin_initial_dataset = ImageLoader.reader(\"plant\",shape=(51,51))"
   ]
  },
  {
   "cell_type": "markdown",
   "metadata": {},
   "source": [
    "# Training Preparator"
   ]
  },
  {
   "cell_type": "code",
   "execution_count": 2,
   "metadata": {
    "marvin_cell": "tpreparator"
   },
   "outputs": [
    {
     "name": "stdout",
     "output_type": "stream",
     "text": [
      "[ 5  6  5 ... 11  8 10]\n"
     ]
    }
   ],
   "source": [
    "from sklearn.model_selection import train_test_split\n",
    "from sklearn import preprocessing\n",
    "import numpy as np\n",
    "\n",
    "train_dict, test_dict = marvin_initial_dataset\n",
    "X_dataset = np.array(train_dict['image'])\n",
    "y_dataset = np.array(train_dict['class'])\n",
    "\n",
    "X_train, X_test, y_train, y_test = train_test_split(X_dataset, y_dataset, test_size=0.33, random_state=42)\n",
    "\n",
    "le = preprocessing.LabelEncoder()\n",
    "le.fit(y_train)\n",
    "y_train_encoded = le.transform(y_train)\n",
    "y_test_encoded = le.transform(y_test)\n",
    "print(y_train_encoded)\n",
    "\n",
    "marvin_dataset = {'train_X': X_train, 'train_y': y_train_encoded, 'test_X': X_test, 'test_y': y_test_encoded}"
   ]
  },
  {
   "cell_type": "code",
   "execution_count": 3,
   "metadata": {},
   "outputs": [
    {
     "data": {
      "image/png": "[encoded data removed]",
      "text/plain": [
       "<Figure size 432x288 with 4 Axes>"
      ]
     },
     "metadata": {
      "needs_background": "light"
     },
     "output_type": "display_data"
    }
   ],
   "source": [
    "import matplotlib.pyplot as plt\n",
    "\n",
    "plt.subplot(221)\n",
    "plt.imshow(X_train[0])\n",
    "plt.subplot(222)\n",
    "plt.imshow(X_train[1])\n",
    "plt.subplot(223)\n",
    "plt.imshow(X_train[2])\n",
    "plt.subplot(224)\n",
    "plt.imshow(X_train[3])\n",
    "\n",
    "plt.show()"
   ]
  },
  {
   "cell_type": "markdown",
   "metadata": {},
   "source": [
    "# Trainer"
   ]
  },
  {
   "cell_type": "code",
   "execution_count": 4,
   "metadata": {
    "marvin_cell": "trainer"
   },
   "outputs": [
    {
     "name": "stdout",
     "output_type": "stream",
     "text": [
      "Train for 80 steps, validate for 20 steps\n",
      "80/80 [==============================] - ETA: 49s - loss: 2.6754 - accuracy: 0.062 - ETA: 29s - loss: 3.2192 - accuracy: 0.156 - ETA: 21s - loss: 3.2777 - accuracy: 0.145 - ETA: 18s - loss: 3.3133 - accuracy: 0.140 - ETA: 15s - loss: 3.1294 - accuracy: 0.137 - ETA: 14s - loss: 3.0046 - accuracy: 0.140 - ETA: 13s - loss: 2.9179 - accuracy: 0.151 - ETA: 12s - loss: 2.8588 - accuracy: 0.144 - ETA: 11s - loss: 2.8153 - accuracy: 0.142 - ETA: 11s - loss: 2.7643 - accuracy: 0.156 - ETA: 10s - loss: 2.7368 - accuracy: 0.147 - ETA: 10s - loss: 2.7024 - accuracy: 0.153 - ETA: 9s - loss: 2.6689 - accuracy: 0.163 - ETA: 9s - loss: 2.6453 - accuracy: 0.16 - ETA: 9s - loss: 2.6199 - accuracy: 0.16 - ETA: 9s - loss: 2.6007 - accuracy: 0.16 - ETA: 8s - loss: 2.5873 - accuracy: 0.16 - ETA: 8s - loss: 2.5659 - accuracy: 0.16 - ETA: 8s - loss: 2.5505 - accuracy: 0.17 - ETA: 7s - loss: 2.5368 - accuracy: 0.16 - ETA: 7s - loss: 2.5181 - accuracy: 0.17 - ETA: 7s - loss: 2.5012 - accuracy: 0.17 - ETA: 7s - loss: 2.4885 - accuracy: 0.17 - ETA: 7s - loss: 2.4795 - accuracy: 0.17 - ETA: 6s - loss: 2.4668 - accuracy: 0.17 - ETA: 6s - loss: 2.4544 - accuracy: 0.17 - ETA: 6s - loss: 2.4383 - accuracy: 0.18 - ETA: 6s - loss: 2.4108 - accuracy: 0.19 - ETA: 6s - loss: 2.3992 - accuracy: 0.19 - ETA: 5s - loss: 2.3788 - accuracy: 0.20 - ETA: 5s - loss: 2.3597 - accuracy: 0.22 - ETA: 5s - loss: 2.3375 - accuracy: 0.23 - ETA: 5s - loss: 2.3202 - accuracy: 0.23 - ETA: 5s - loss: 2.3056 - accuracy: 0.24 - ETA: 5s - loss: 2.2917 - accuracy: 0.24 - ETA: 5s - loss: 2.2768 - accuracy: 0.25 - ETA: 4s - loss: 2.2554 - accuracy: 0.25 - ETA: 4s - loss: 2.2443 - accuracy: 0.25 - ETA: 4s - loss: 2.2290 - accuracy: 0.26 - ETA: 4s - loss: 2.2135 - accuracy: 0.26 - ETA: 4s - loss: 2.2041 - accuracy: 0.26 - ETA: 4s - loss: 2.1925 - accuracy: 0.26 - ETA: 4s - loss: 2.1774 - accuracy: 0.26 - ETA: 4s - loss: 2.1724 - accuracy: 0.26 - ETA: 3s - loss: 2.1639 - accuracy: 0.27 - ETA: 3s - loss: 2.1509 - accuracy: 0.27 - ETA: 3s - loss: 2.1405 - accuracy: 0.27 - ETA: 3s - loss: 2.1251 - accuracy: 0.28 - ETA: 3s - loss: 2.1110 - accuracy: 0.28 - ETA: 3s - loss: 2.1126 - accuracy: 0.28 - ETA: 3s - loss: 2.1028 - accuracy: 0.29 - ETA: 3s - loss: 2.0873 - accuracy: 0.29 - ETA: 2s - loss: 2.0727 - accuracy: 0.30 - ETA: 2s - loss: 2.0605 - accuracy: 0.30 - ETA: 2s - loss: 2.0544 - accuracy: 0.30 - ETA: 2s - loss: 2.0501 - accuracy: 0.30 - ETA: 2s - loss: 2.0385 - accuracy: 0.30 - ETA: 2s - loss: 2.0280 - accuracy: 0.31 - ETA: 2s - loss: 2.0229 - accuracy: 0.31 - ETA: 2s - loss: 2.0150 - accuracy: 0.31 - ETA: 2s - loss: 2.0051 - accuracy: 0.31 - ETA: 1s - loss: 2.0003 - accuracy: 0.32 - ETA: 1s - loss: 1.9911 - accuracy: 0.32 - ETA: 1s - loss: 1.9811 - accuracy: 0.32 - ETA: 1s - loss: 1.9718 - accuracy: 0.33 - ETA: 1s - loss: 1.9605 - accuracy: 0.33 - ETA: 1s - loss: 1.9489 - accuracy: 0.33 - ETA: 1s - loss: 1.9377 - accuracy: 0.34 - ETA: 1s - loss: 1.9312 - accuracy: 0.34 - ETA: 1s - loss: 1.9195 - accuracy: 0.34 - ETA: 0s - loss: 1.9104 - accuracy: 0.34 - ETA: 0s - loss: 1.8999 - accuracy: 0.35 - ETA: 0s - loss: 1.8931 - accuracy: 0.35 - ETA: 0s - loss: 1.8881 - accuracy: 0.35 - ETA: 0s - loss: 1.8778 - accuracy: 0.35 - ETA: 0s - loss: 1.8729 - accuracy: 0.36 - ETA: 0s - loss: 1.8642 - accuracy: 0.36 - ETA: 0s - loss: 1.8543 - accuracy: 0.36 - ETA: 0s - loss: 1.8502 - accuracy: 0.36 - 9s 114ms/step - loss: 1.8442 - accuracy: 0.3704 - val_loss: 1.2581 - val_accuracy: 0.5519\n"
     ]
    },
    {
     "data": {
      "text/html": [
       "<span style=\"color:#4527A0\"><h1 style=\"font-size:18px\">Trial complete</h1></span>"
      ],
      "text/plain": [
       "<IPython.core.display.HTML object>"
      ]
     },
     "metadata": {},
     "output_type": "display_data"
    },
    {
     "data": {
      "text/html": [
       "<span style=\"color:#4527A0\"><h1 style=\"font-size:18px\">Trial summary</h1></span>"
      ],
      "text/plain": [
       "<IPython.core.display.HTML object>"
      ]
     },
     "metadata": {},
     "output_type": "display_data"
    },
    {
     "data": {
      "text/html": [
       "<span style=\"color:cyan\"> |-Trial ID: b24143e9d869ea04a7eeb538426784f4</span>"
      ],
      "text/plain": [
       "<IPython.core.display.HTML object>"
      ]
     },
     "metadata": {},
     "output_type": "display_data"
    },
    {
     "data": {
      "text/html": [
       "<span style=\"color:cyan\"> |-Score: 1.2581152141094207</span>"
      ],
      "text/plain": [
       "<IPython.core.display.HTML object>"
      ]
     },
     "metadata": {},
     "output_type": "display_data"
    },
    {
     "data": {
      "text/html": [
       "<span style=\"color:cyan\"> |-Best step: 0</span>"
      ],
      "text/plain": [
       "<IPython.core.display.HTML object>"
      ]
     },
     "metadata": {},
     "output_type": "display_data"
    },
    {
     "data": {
      "text/html": [
       "<span style=\"color:#7E57C2\"><h2 style=\"font-size:16px\">Hyperparameters:</h2></span>"
      ],
      "text/plain": [
       "<IPython.core.display.HTML object>"
      ]
     },
     "metadata": {},
     "output_type": "display_data"
    },
    {
     "data": {
      "text/html": [
       "<span style=\"color:cyan\"> |-classification_head_1/dropout_rate: 0.5</span>"
      ],
      "text/plain": [
       "<IPython.core.display.HTML object>"
      ]
     },
     "metadata": {},
     "output_type": "display_data"
    },
    {
     "data": {
      "text/html": [
       "<span style=\"color:blue\"> |-classification_head_1/spatial_reduction_1/reduction_type: flatten</span>"
      ],
      "text/plain": [
       "<IPython.core.display.HTML object>"
      ]
     },
     "metadata": {},
     "output_type": "display_data"
    },
    {
     "data": {
      "text/html": [
       "<span style=\"color:cyan\"> |-dense_block_1/dropout_rate: 0</span>"
      ],
      "text/plain": [
       "<IPython.core.display.HTML object>"
      ]
     },
     "metadata": {},
     "output_type": "display_data"
    },
    {
     "data": {
      "text/html": [
       "<span style=\"color:blue\"> |-dense_block_1/num_layers: 1</span>"
      ],
      "text/plain": [
       "<IPython.core.display.HTML object>"
      ]
     },
     "metadata": {},
     "output_type": "display_data"
    },
    {
     "data": {
      "text/html": [
       "<span style=\"color:cyan\"> |-dense_block_1/units_0: 128</span>"
      ],
      "text/plain": [
       "<IPython.core.display.HTML object>"
      ]
     },
     "metadata": {},
     "output_type": "display_data"
    },
    {
     "data": {
      "text/html": [
       "<span style=\"color:blue\"> |-dense_block_1/use_batchnorm: False</span>"
      ],
      "text/plain": [
       "<IPython.core.display.HTML object>"
      ]
     },
     "metadata": {},
     "output_type": "display_data"
    },
    {
     "data": {
      "text/html": [
       "<span style=\"color:cyan\"> |-image_block_1/augment: False</span>"
      ],
      "text/plain": [
       "<IPython.core.display.HTML object>"
      ]
     },
     "metadata": {},
     "output_type": "display_data"
    },
    {
     "data": {
      "text/html": [
       "<span style=\"color:blue\"> |-image_block_1/block_type: vanilla</span>"
      ],
      "text/plain": [
       "<IPython.core.display.HTML object>"
      ]
     },
     "metadata": {},
     "output_type": "display_data"
    },
    {
     "data": {
      "text/html": [
       "<span style=\"color:cyan\"> |-image_block_1/conv_block_1/dropout_rate: 0.25</span>"
      ],
      "text/plain": [
       "<IPython.core.display.HTML object>"
      ]
     },
     "metadata": {},
     "output_type": "display_data"
    },
    {
     "data": {
      "text/html": [
       "<span style=\"color:blue\"> |-image_block_1/conv_block_1/filters_0_0: 32</span>"
      ],
      "text/plain": [
       "<IPython.core.display.HTML object>"
      ]
     },
     "metadata": {},
     "output_type": "display_data"
    },
    {
     "data": {
      "text/html": [
       "<span style=\"color:cyan\"> |-image_block_1/conv_block_1/filters_0_1: 64</span>"
      ],
      "text/plain": [
       "<IPython.core.display.HTML object>"
      ]
     },
     "metadata": {},
     "output_type": "display_data"
    },
    {
     "data": {
      "text/html": [
       "<span style=\"color:blue\"> |-image_block_1/conv_block_1/kernel_size: 3</span>"
      ],
      "text/plain": [
       "<IPython.core.display.HTML object>"
      ]
     },
     "metadata": {},
     "output_type": "display_data"
    },
    {
     "data": {
      "text/html": [
       "<span style=\"color:cyan\"> |-image_block_1/conv_block_1/max_pooling: True</span>"
      ],
      "text/plain": [
       "<IPython.core.display.HTML object>"
      ]
     },
     "metadata": {},
     "output_type": "display_data"
    },
    {
     "data": {
      "text/html": [
       "<span style=\"color:blue\"> |-image_block_1/conv_block_1/num_blocks: 1</span>"
      ],
      "text/plain": [
       "<IPython.core.display.HTML object>"
      ]
     },
     "metadata": {},
     "output_type": "display_data"
    },
    {
     "data": {
      "text/html": [
       "<span style=\"color:cyan\"> |-image_block_1/conv_block_1/num_layers: 2</span>"
      ],
      "text/plain": [
       "<IPython.core.display.HTML object>"
      ]
     },
     "metadata": {},
     "output_type": "display_data"
    },
    {
     "data": {
      "text/html": [
       "<span style=\"color:blue\"> |-image_block_1/conv_block_1/separable: False</span>"
      ],
      "text/plain": [
       "<IPython.core.display.HTML object>"
      ]
     },
     "metadata": {},
     "output_type": "display_data"
    },
    {
     "data": {
      "text/html": [
       "<span style=\"color:cyan\"> |-image_block_1/normalize: True</span>"
      ],
      "text/plain": [
       "<IPython.core.display.HTML object>"
      ]
     },
     "metadata": {},
     "output_type": "display_data"
    },
    {
     "data": {
      "text/html": [
       "<span style=\"color:blue\"> |-optimizer: adam</span>"
      ],
      "text/plain": [
       "<IPython.core.display.HTML object>"
      ]
     },
     "metadata": {},
     "output_type": "display_data"
    },
    {
     "name": "stdout",
     "output_type": "stream",
     "text": [
      "INFO:tensorflow:Oracle triggered exit\n",
      "Train for 100 steps, validate for 20 steps\n",
      "100/100 [==============================] - ETA: 58s - loss: 2.4946 - accuracy: 0.218 - ETA: 34s - loss: 3.1448 - accuracy: 0.203 - ETA: 26s - loss: 3.1615 - accuracy: 0.187 - ETA: 22s - loss: 3.2130 - accuracy: 0.156 - ETA: 20s - loss: 3.0594 - accuracy: 0.137 - ETA: 18s - loss: 2.9705 - accuracy: 0.130 - ETA: 17s - loss: 2.8866 - accuracy: 0.138 - ETA: 16s - loss: 2.8329 - accuracy: 0.132 - ETA: 15s - loss: 2.7852 - accuracy: 0.125 - ETA: 14s - loss: 2.7373 - accuracy: 0.134 - ETA: 14s - loss: 2.7116 - accuracy: 0.130 - ETA: 13s - loss: 2.6838 - accuracy: 0.135 - ETA: 12s - loss: 2.6575 - accuracy: 0.137 - ETA: 12s - loss: 2.6336 - accuracy: 0.131 - ETA: 12s - loss: 2.6032 - accuracy: 0.137 - ETA: 11s - loss: 2.5795 - accuracy: 0.142 - ETA: 11s - loss: 2.5614 - accuracy: 0.147 - ETA: 11s - loss: 2.5392 - accuracy: 0.154 - ETA: 11s - loss: 2.5192 - accuracy: 0.162 - ETA: 11s - loss: 2.5046 - accuracy: 0.165 - ETA: 11s - loss: 2.4846 - accuracy: 0.169 - ETA: 11s - loss: 2.4705 - accuracy: 0.176 - ETA: 11s - loss: 2.4468 - accuracy: 0.182 - ETA: 11s - loss: 2.4335 - accuracy: 0.188 - ETA: 11s - loss: 2.4152 - accuracy: 0.196 - ETA: 10s - loss: 2.3992 - accuracy: 0.198 - ETA: 10s - loss: 2.3740 - accuracy: 0.211 - ETA: 10s - loss: 2.3425 - accuracy: 0.223 - ETA: 10s - loss: 2.3319 - accuracy: 0.227 - ETA: 10s - loss: 2.3095 - accuracy: 0.236 - ETA: 10s - loss: 2.2836 - accuracy: 0.249 - ETA: 10s - loss: 2.2585 - accuracy: 0.259 - ETA: 10s - loss: 2.2395 - accuracy: 0.266 - ETA: 10s - loss: 2.2233 - accuracy: 0.270 - ETA: 9s - loss: 2.2047 - accuracy: 0.277 - ETA: 9s - loss: 2.1896 - accuracy: 0.28 - ETA: 9s - loss: 2.1661 - accuracy: 0.28 - ETA: 9s - loss: 2.1499 - accuracy: 0.29 - ETA: 9s - loss: 2.1331 - accuracy: 0.29 - ETA: 8s - loss: 2.1177 - accuracy: 0.29 - ETA: 8s - loss: 2.1128 - accuracy: 0.29 - ETA: 8s - loss: 2.1053 - accuracy: 0.29 - ETA: 8s - loss: 2.0877 - accuracy: 0.29 - ETA: 7s - loss: 2.0834 - accuracy: 0.29 - ETA: 7s - loss: 2.0745 - accuracy: 0.30 - ETA: 7s - loss: 2.0619 - accuracy: 0.30 - ETA: 7s - loss: 2.0473 - accuracy: 0.31 - ETA: 7s - loss: 2.0341 - accuracy: 0.31 - ETA: 7s - loss: 2.0199 - accuracy: 0.31 - ETA: 6s - loss: 2.0185 - accuracy: 0.31 - ETA: 6s - loss: 2.0075 - accuracy: 0.32 - ETA: 6s - loss: 1.9919 - accuracy: 0.33 - ETA: 6s - loss: 1.9764 - accuracy: 0.33 - ETA: 6s - loss: 1.9656 - accuracy: 0.34 - ETA: 6s - loss: 1.9543 - accuracy: 0.34 - ETA: 6s - loss: 1.9533 - accuracy: 0.34 - ETA: 5s - loss: 1.9426 - accuracy: 0.34 - ETA: 5s - loss: 1.9330 - accuracy: 0.35 - ETA: 5s - loss: 1.9290 - accuracy: 0.35 - ETA: 5s - loss: 1.9198 - accuracy: 0.35 - ETA: 5s - loss: 1.9111 - accuracy: 0.35 - ETA: 5s - loss: 1.9066 - accuracy: 0.35 - ETA: 5s - loss: 1.8953 - accuracy: 0.36 - ETA: 4s - loss: 1.8862 - accuracy: 0.36 - ETA: 4s - loss: 1.8792 - accuracy: 0.36 - ETA: 4s - loss: 1.8694 - accuracy: 0.37 - ETA: 4s - loss: 1.8572 - accuracy: 0.37 - ETA: 4s - loss: 1.8476 - accuracy: 0.37 - ETA: 4s - loss: 1.8424 - accuracy: 0.38 - ETA: 4s - loss: 1.8324 - accuracy: 0.38 - ETA: 3s - loss: 1.8251 - accuracy: 0.38 - ETA: 3s - loss: 1.8165 - accuracy: 0.38 - ETA: 3s - loss: 1.8109 - accuracy: 0.39 - ETA: 3s - loss: 1.8063 - accuracy: 0.39 - ETA: 3s - loss: 1.7977 - accuracy: 0.39 - ETA: 3s - loss: 1.7938 - accuracy: 0.39 - ETA: 3s - loss: 1.7845 - accuracy: 0.40 - ETA: 3s - loss: 1.7754 - accuracy: 0.40 - ETA: 2s - loss: 1.7711 - accuracy: 0.40 - ETA: 2s - loss: 1.7652 - accuracy: 0.40 - ETA: 2s - loss: 1.7635 - accuracy: 0.40 - ETA: 2s - loss: 1.7622 - accuracy: 0.41 - ETA: 2s - loss: 1.7531 - accuracy: 0.41 - ETA: 2s - loss: 1.7497 - accuracy: 0.41 - ETA: 2s - loss: 1.7404 - accuracy: 0.41 - ETA: 1s - loss: 1.7340 - accuracy: 0.41 - ETA: 1s - loss: 1.7254 - accuracy: 0.42 - ETA: 1s - loss: 1.7223 - accuracy: 0.42 - ETA: 1s - loss: 1.7167 - accuracy: 0.42 - ETA: 1s - loss: 1.7084 - accuracy: 0.42 - ETA: 1s - loss: 1.7003 - accuracy: 0.43 - ETA: 1s - loss: 1.6953 - accuracy: 0.43 - ETA: 0s - loss: 1.6879 - accuracy: 0.43 - ETA: 0s - loss: 1.6813 - accuracy: 0.43 - ETA: 0s - loss: 1.6736 - accuracy: 0.43 - ETA: 0s - loss: 1.6668 - accuracy: 0.44 - ETA: 0s - loss: 1.6578 - accuracy: 0.44 - ETA: 0s - loss: 1.6508 - accuracy: 0.44 - ETA: 0s - loss: 1.6427 - accuracy: 0.44 - 14s 135ms/step - loss: 1.6347 - accuracy: 0.4513 - val_loss: 0.8233 - val_accuracy: 0.7264\n"
     ]
    }
   ],
   "source": [
    "import autokeras as ak\n",
    "# Initialize the ImageClassifier.\n",
    "clf = ak.ImageClassifier(max_trials=1)\n",
    "# Search for the best model.\n",
    "clf.fit(marvin_dataset['train_X'], marvin_dataset['train_y'], epochs=1)\n",
    "\n",
    "marvin_model = clf\n"
   ]
  },
  {
   "cell_type": "code",
   "execution_count": 5,
   "metadata": {},
   "outputs": [
    {
     "name": "stderr",
     "output_type": "stream",
     "text": [
      "Using TensorFlow backend.\n"
     ]
    },
    {
     "name": "stdout",
     "output_type": "stream",
     "text": [
      "<class 'tensorflow.python.keras.engine.training.Model'>\n",
      "WARNING:tensorflow:From /home/bruno/.virtualenvs/autokeras-plant-engine-env/lib/python3.7/site-packages/tensorflow_core/python/ops/resource_variable_ops.py:1786: calling BaseResourceVariable.__init__ (from tensorflow.python.ops.resource_variable_ops) with constraint is deprecated and will be removed in a future version.\n",
      "Instructions for updating:\n",
      "If using Keras pass *_constraint arguments to layers.\n",
      "INFO:tensorflow:Assets written to: model_autokeras/assets\n"
     ]
    }
   ],
   "source": [
    "from keras.models import model_from_json\n",
    "import keras\n",
    "try:\n",
    "    model = clf.export_model()\n",
    "    print(type(model))  # <class 'tensorflow.python.keras.engine.training.Model'>\n",
    "except:\n",
    "    print(\"Model has been created\")\n",
    "\n",
    "try:\n",
    "    model.save(\"model_autokeras\", save_format=\"tf\")\n",
    "    model.save(\"model_autokeras.h5\")\n",
    "except:\n",
    "    print(\"Model has been created\")\n",
    "\n",
    "from tensorflow.keras.models import load_model\n",
    "\n",
    "loaded_model = load_model(\"model_autokeras\",custom_objects=ak.CUSTOM_OBJECTS,compile=True)\n"
   ]
  },
  {
   "cell_type": "markdown",
   "metadata": {},
   "source": [
    "# Metrics Evaluator"
   ]
  },
  {
   "cell_type": "code",
   "execution_count": 6,
   "metadata": {
    "marvin_cell": "evaluator"
   },
   "outputs": [
    {
     "name": "stderr",
     "output_type": "stream",
     "text": [
      "/home/bruno/.virtualenvs/autokeras-plant-engine-env/lib/python3.7/site-packages/sklearn/metrics/_classification.py:193: FutureWarning: elementwise comparison failed; returning scalar instead, but in the future will perform elementwise comparison\n",
      "  score = y_true == y_pred\n"
     ]
    }
   ],
   "source": [
    "from marvin_python_toolbox.common.image_loader import ImageLoader\n",
    "\n",
    "CLASS = dict(zip(ImageLoader.get_class_names(\"plant\"), [x for x in range(0,12)]))\n",
    "INV_CLASS = {v: k for k, v in CLASS.items()}\n",
    "\n",
    "# Evaluate on the testing data.\n",
    "prob = marvin_model.predict(marvin_dataset['test_X'])\n",
    "from sklearn.metrics import accuracy_score\n",
    "\n",
    "marvin_metrics = accuracy_score(marvin_dataset['test_y'], [INV_CLASS[p.argmax()] for p in prob])"
   ]
  },
  {
   "cell_type": "code",
   "execution_count": 7,
   "metadata": {},
   "outputs": [],
   "source": [
    "## Maize image\n",
    "\n",
    "input_message = \"https://i.imgur.com/07KgELs.png\""
   ]
  },
  {
   "cell_type": "markdown",
   "metadata": {},
   "source": [
    "# Prediction Preparator"
   ]
  },
  {
   "cell_type": "code",
   "execution_count": 8,
   "metadata": {
    "marvin_cell": "ppreparator"
   },
   "outputs": [],
   "source": [
    "import numpy as np\n",
    "from marvin_python_toolbox.common.image_loader import ImageLoader\n",
    "input_message = input_message\n",
    "img = ImageLoader.img_to_predict(input_message,shape=(51,51))\n",
    "img = np.expand_dims(img, axis=0)\n",
    "input_message = img"
   ]
  },
  {
   "cell_type": "code",
   "execution_count": 9,
   "metadata": {
    "scrolled": true
   },
   "outputs": [
    {
     "data": {
      "text/plain": [
       "<matplotlib.image.AxesImage at 0x7fb54f4fad50>"
      ]
     },
     "execution_count": 9,
     "metadata": {},
     "output_type": "execute_result"
    },
    {
     "name": "stdout",
     "output_type": "stream",
     "text": [
      "WARNING:tensorflow:Unresolved object in checkpoint: (root).optimizer.iter\n",
      "WARNING:tensorflow:Unresolved object in checkpoint: (root).optimizer.beta_1\n",
      "WARNING:tensorflow:Unresolved object in checkpoint: (root).optimizer.beta_2\n",
      "WARNING:tensorflow:Unresolved object in checkpoint: (root).optimizer.decay\n",
      "WARNING:tensorflow:Unresolved object in checkpoint: (root).optimizer.learning_rate\n",
      "WARNING:tensorflow:A checkpoint was restored (e.g. tf.train.Checkpoint.restore or tf.keras.Model.load_weights) but not all checkpointed values were used. See above for specific issues. Use expect_partial() on the load status object, e.g. tf.train.Checkpoint.restore(...).expect_partial(), to silence these warnings, or use assert_consumed() to make the check explicit. See https://www.tensorflow.org/guide/checkpoint#loading_mechanics for details.\n",
      "WARNING:tensorflow:Unresolved object in checkpoint: (root).optimizer.iter\n",
      "WARNING:tensorflow:Unresolved object in checkpoint: (root).optimizer.beta_1\n",
      "WARNING:tensorflow:Unresolved object in checkpoint: (root).optimizer.beta_2\n",
      "WARNING:tensorflow:Unresolved object in checkpoint: (root).optimizer.decay\n",
      "WARNING:tensorflow:Unresolved object in checkpoint: (root).optimizer.learning_rate\n",
      "WARNING:tensorflow:A checkpoint was restored (e.g. tf.train.Checkpoint.restore or tf.keras.Model.load_weights) but not all checkpointed values were used. See above for specific issues. Use expect_partial() on the load status object, e.g. tf.train.Checkpoint.restore(...).expect_partial(), to silence these warnings, or use assert_consumed() to make the check explicit. See https://www.tensorflow.org/guide/checkpoint#loading_mechanics for details.\n"
     ]
    },
    {
     "data": {
      "image/png": "[encoded data removed]",
      "text/plain": [
       "<Figure size 432x288 with 1 Axes>"
      ]
     },
     "metadata": {
      "needs_background": "light"
     },
     "output_type": "display_data"
    }
   ],
   "source": [
    "import matplotlib.pyplot as plt\n",
    "\n",
    "plt.subplot(221)\n",
    "plt.imshow(img[0])"
   ]
  },
  {
   "cell_type": "markdown",
   "metadata": {},
   "source": [
    "# Predictor"
   ]
  },
  {
   "cell_type": "code",
   "execution_count": 11,
   "metadata": {
    "marvin_cell": "predictor"
   },
   "outputs": [],
   "source": [
    "from marvin_python_toolbox.common.image_loader import ImageLoader\n",
    "CLASS = dict(zip(ImageLoader.get_class_names(\"plant\"), [x for x in range(0,12)]))\n",
    "INV_CLASS = {v: k for k, v in CLASS.items()}\n",
    "\n",
    "final_prediction = INV_CLASS[marvin_model.predict(input_message).argmax()]\n"
   ]
  }
 ],
 "metadata": {
  "kernelspec": {
   "display_name": "Python 3",
   "language": "python",
   "name": "python3"
  },
  "language_info": {
   "codemirror_mode": {
    "name": "ipython",
    "version": 3
   },
   "file_extension": ".py",
   "mimetype": "text/x-python",
   "name": "python",
   "nbconvert_exporter": "python",
   "pygments_lexer": "ipython3",
   "version": "3.7.6"
  }
 },
 "nbformat": 4,
 "nbformat_minor": 4
}
