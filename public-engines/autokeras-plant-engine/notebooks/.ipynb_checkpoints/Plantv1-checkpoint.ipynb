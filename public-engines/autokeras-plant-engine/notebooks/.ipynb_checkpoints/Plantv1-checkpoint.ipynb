{
 "cells": [
  {
   "cell_type": "markdown",
   "metadata": {},
   "source": [
    "# Documentation"
   ]
  },
  {
   "cell_type": "markdown",
   "metadata": {},
   "source": [
    "# Sample Notebook To Build a Model and Make Predictions with the Plant Seedlings Dataset from Kaggle - Autokeras\n"
   ]
  },
  {
   "cell_type": "markdown",
   "metadata": {},
   "source": [
    "Table of Contents\n",
    "1. [Acquisitor and Cleaner](#Acquisitor-and-Cleaner)\n",
    "2. [Training Preparator](#Training-Preparator)\n",
    "3. [Trainer](#Trainer)\n",
    "4. [Metrics Evaluator](#Metrics-Evaluator)\n",
    "5. [Prediction Preparator](#Prediction-Preparator)\n",
    "6. [Predictor](#Predictor)"
   ]
  },
  {
   "cell_type": "markdown",
   "metadata": {},
   "source": [
    "# Acquisitor and Cleaner"
   ]
  },
  {
   "cell_type": "code",
   "execution_count": null,
   "metadata": {
    "marvin_cell": "acquisitor"
   },
   "outputs": [
    {
     "name": "stdout",
     "output_type": "stream",
     "text": [
      "Requirement already satisfied: keras in /home/bruno/.virtualenvs/autokeras-plant-engine-env/lib/python3.7/site-packages (2.3.1)\n",
      "Requirement already satisfied: tensorflow==2.1 in /home/bruno/.virtualenvs/autokeras-plant-engine-env/lib/python3.7/site-packages (2.1.0)\n",
      "Requirement already satisfied: numpy>=1.9.1 in /home/bruno/.virtualenvs/autokeras-plant-engine-env/lib/python3.7/site-packages (from keras) (1.18.5)\n",
      "Requirement already satisfied: keras-preprocessing>=1.0.5 in /home/bruno/.virtualenvs/autokeras-plant-engine-env/lib/python3.7/site-packages (from keras) (1.1.2)\n",
      "Requirement already satisfied: keras-applications>=1.0.6 in /home/bruno/.virtualenvs/autokeras-plant-engine-env/lib/python3.7/site-packages (from keras) (1.0.8)\n",
      "Requirement already satisfied: pyyaml in /home/bruno/.virtualenvs/autokeras-plant-engine-env/lib/python3.7/site-packages (from keras) (5.3.1)\n",
      "Requirement already satisfied: h5py in /home/bruno/.virtualenvs/autokeras-plant-engine-env/lib/python3.7/site-packages (from keras) (2.10.0)\n",
      "Requirement already satisfied: scipy>=0.14 in /home/bruno/.virtualenvs/autokeras-plant-engine-env/lib/python3.7/site-packages (from keras) (1.4.1)\n",
      "Requirement already satisfied: six>=1.9.0 in /home/bruno/.virtualenvs/autokeras-plant-engine-env/lib/python3.7/site-packages (from keras) (1.15.0)\n",
      "Requirement already satisfied: termcolor>=1.1.0 in /home/bruno/.virtualenvs/autokeras-plant-engine-env/lib/python3.7/site-packages (from tensorflow==2.1) (1.1.0)\n",
      "Requirement already satisfied: astor>=0.6.0 in /home/bruno/.virtualenvs/autokeras-plant-engine-env/lib/python3.7/site-packages (from tensorflow==2.1) (0.8.1)\n",
      "Requirement already satisfied: opt-einsum>=2.3.2 in /home/bruno/.virtualenvs/autokeras-plant-engine-env/lib/python3.7/site-packages (from tensorflow==2.1) (3.2.1)\n",
      "Requirement already satisfied: tensorboard<2.2.0,>=2.1.0 in /home/bruno/.virtualenvs/autokeras-plant-engine-env/lib/python3.7/site-packages (from tensorflow==2.1) (2.1.1)\n",
      "Requirement already satisfied: google-pasta>=0.1.6 in /home/bruno/.virtualenvs/autokeras-plant-engine-env/lib/python3.7/site-packages (from tensorflow==2.1) (0.2.0)\n",
      "Requirement already satisfied: wrapt>=1.11.1 in /home/bruno/.virtualenvs/autokeras-plant-engine-env/lib/python3.7/site-packages (from tensorflow==2.1) (1.12.1)\n",
      "Requirement already satisfied: absl-py>=0.7.0 in /home/bruno/.virtualenvs/autokeras-plant-engine-env/lib/python3.7/site-packages (from tensorflow==2.1) (0.9.0)\n",
      "Requirement already satisfied: tensorflow-estimator<2.2.0,>=2.1.0rc0 in /home/bruno/.virtualenvs/autokeras-plant-engine-env/lib/python3.7/site-packages (from tensorflow==2.1) (2.1.0)\n",
      "Requirement already satisfied: grpcio>=1.8.6 in /home/bruno/.virtualenvs/autokeras-plant-engine-env/lib/python3.7/site-packages (from tensorflow==2.1) (1.29.0)\n",
      "Requirement already satisfied: wheel>=0.26; python_version >= \"3\" in /home/bruno/.virtualenvs/autokeras-plant-engine-env/lib/python3.7/site-packages (from tensorflow==2.1) (0.34.2)\n",
      "Requirement already satisfied: protobuf>=3.8.0 in /home/bruno/.virtualenvs/autokeras-plant-engine-env/lib/python3.7/site-packages (from tensorflow==2.1) (3.12.2)\n",
      "Requirement already satisfied: gast==0.2.2 in /home/bruno/.virtualenvs/autokeras-plant-engine-env/lib/python3.7/site-packages (from tensorflow==2.1) (0.2.2)\n",
      "Requirement already satisfied: werkzeug>=0.11.15 in /home/bruno/.virtualenvs/autokeras-plant-engine-env/lib/python3.7/site-packages (from tensorboard<2.2.0,>=2.1.0->tensorflow==2.1) (1.0.1)\n",
      "Requirement already satisfied: google-auth-oauthlib<0.5,>=0.4.1 in /home/bruno/.virtualenvs/autokeras-plant-engine-env/lib/python3.7/site-packages (from tensorboard<2.2.0,>=2.1.0->tensorflow==2.1) (0.4.1)\n",
      "Requirement already satisfied: requests<3,>=2.21.0 in /home/bruno/.virtualenvs/autokeras-plant-engine-env/lib/python3.7/site-packages (from tensorboard<2.2.0,>=2.1.0->tensorflow==2.1) (2.23.0)\n",
      "Requirement already satisfied: markdown>=2.6.8 in /home/bruno/.virtualenvs/autokeras-plant-engine-env/lib/python3.7/site-packages (from tensorboard<2.2.0,>=2.1.0->tensorflow==2.1) (3.2.2)\n",
      "Requirement already satisfied: setuptools>=41.0.0 in /home/bruno/.virtualenvs/autokeras-plant-engine-env/lib/python3.7/site-packages (from tensorboard<2.2.0,>=2.1.0->tensorflow==2.1) (46.4.0)\n",
      "Requirement already satisfied: google-auth<2,>=1.6.3 in /home/bruno/.virtualenvs/autokeras-plant-engine-env/lib/python3.7/site-packages (from tensorboard<2.2.0,>=2.1.0->tensorflow==2.1) (1.17.0)\n",
      "Requirement already satisfied: requests-oauthlib>=0.7.0 in /home/bruno/.virtualenvs/autokeras-plant-engine-env/lib/python3.7/site-packages (from google-auth-oauthlib<0.5,>=0.4.1->tensorboard<2.2.0,>=2.1.0->tensorflow==2.1) (1.3.0)\n",
      "Requirement already satisfied: chardet<4,>=3.0.2 in /home/bruno/.virtualenvs/autokeras-plant-engine-env/lib/python3.7/site-packages (from requests<3,>=2.21.0->tensorboard<2.2.0,>=2.1.0->tensorflow==2.1) (3.0.4)\n",
      "Requirement already satisfied: urllib3!=1.25.0,!=1.25.1,<1.26,>=1.21.1 in /home/bruno/.virtualenvs/autokeras-plant-engine-env/lib/python3.7/site-packages (from requests<3,>=2.21.0->tensorboard<2.2.0,>=2.1.0->tensorflow==2.1) (1.21.1)\n",
      "Requirement already satisfied: idna<3,>=2.5 in /home/bruno/.virtualenvs/autokeras-plant-engine-env/lib/python3.7/site-packages (from requests<3,>=2.21.0->tensorboard<2.2.0,>=2.1.0->tensorflow==2.1) (2.9)\n",
      "Requirement already satisfied: certifi>=2017.4.17 in /home/bruno/.virtualenvs/autokeras-plant-engine-env/lib/python3.7/site-packages (from requests<3,>=2.21.0->tensorboard<2.2.0,>=2.1.0->tensorflow==2.1) (2020.4.5.2)\n",
      "Requirement already satisfied: importlib-metadata; python_version < \"3.8\" in /home/bruno/.virtualenvs/autokeras-plant-engine-env/lib/python3.7/site-packages (from markdown>=2.6.8->tensorboard<2.2.0,>=2.1.0->tensorflow==2.1) (1.6.1)\n",
      "Requirement already satisfied: rsa<5.0,>=3.1.4 in /home/bruno/.virtualenvs/autokeras-plant-engine-env/lib/python3.7/site-packages (from google-auth<2,>=1.6.3->tensorboard<2.2.0,>=2.1.0->tensorflow==2.1) (4.2)\n",
      "Requirement already satisfied: pyasn1-modules>=0.2.1 in /home/bruno/.virtualenvs/autokeras-plant-engine-env/lib/python3.7/site-packages (from google-auth<2,>=1.6.3->tensorboard<2.2.0,>=2.1.0->tensorflow==2.1) (0.2.8)\n",
      "Requirement already satisfied: cachetools<5.0,>=2.0.0 in /home/bruno/.virtualenvs/autokeras-plant-engine-env/lib/python3.7/site-packages (from google-auth<2,>=1.6.3->tensorboard<2.2.0,>=2.1.0->tensorflow==2.1) (4.1.0)\n",
      "Requirement already satisfied: oauthlib>=3.0.0 in /home/bruno/.virtualenvs/autokeras-plant-engine-env/lib/python3.7/site-packages (from requests-oauthlib>=0.7.0->google-auth-oauthlib<0.5,>=0.4.1->tensorboard<2.2.0,>=2.1.0->tensorflow==2.1) (3.1.0)\n",
      "Requirement already satisfied: zipp>=0.5 in /home/bruno/.virtualenvs/autokeras-plant-engine-env/lib/python3.7/site-packages (from importlib-metadata; python_version < \"3.8\"->markdown>=2.6.8->tensorboard<2.2.0,>=2.1.0->tensorflow==2.1) (3.1.0)\n",
      "Requirement already satisfied: pyasn1>=0.1.3 in /home/bruno/.virtualenvs/autokeras-plant-engine-env/lib/python3.7/site-packages (from rsa<5.0,>=3.1.4->google-auth<2,>=1.6.3->tensorboard<2.2.0,>=2.1.0->tensorflow==2.1) (0.4.8)\n",
      "Root:\n",
      "/home/bruno/marvin/data/plant\n",
      "Dirs:\n",
      "['train', 'test']\n",
      "Root:\n",
      "/home/bruno/marvin/data/plant/train\n",
      "Dirs:\n",
      "['Shepherds Purse', 'Maize', 'Cleavers', 'Small-flowered Cranesbill', 'Common wheat', 'Common Chickweed', 'Fat Hen', 'Charlock', 'Sugar beet', 'Scentless Mayweed', 'Black-grass', 'Loose Silky-bent']\n"
     ]
    },
    {
     "name": "stderr",
     "output_type": "stream",
     "text": [
      "Start fill train_dict:  45%|#########4           | 2131/4750 [02:40<02:13, 19.64it/s]"
     ]
    }
   ],
   "source": [
    "!pip install keras tensorflow==2.1\n",
    "import numpy as np\n",
    "from sklearn.model_selection import train_test_split\n",
    "from marvin_python_toolbox.common.image_loader import ImageLoader\n",
    "\n",
    "marvin_initial_dataset = ImageLoader.reader(\"plant\",shape=(51,51))"
   ]
  },
  {
   "cell_type": "markdown",
   "metadata": {},
   "source": [
    "# Training Preparator"
   ]
  },
  {
   "cell_type": "code",
   "execution_count": 2,
   "metadata": {
    "marvin_cell": "tpreparator"
   },
   "outputs": [
    {
     "name": "stdout",
     "output_type": "stream",
     "text": [
      "[ 5  6  5 ... 11  8 10]\n"
     ]
    }
   ],
   "source": [
    "from sklearn.model_selection import train_test_split\n",
    "from sklearn import preprocessing\n",
    "import numpy as np\n",
    "\n",
    "train_dict, test_dict = marvin_initial_dataset\n",
    "X_dataset = np.array(train_dict['image'])\n",
    "y_dataset = np.array(train_dict['class'])\n",
    "\n",
    "X_train, X_test, y_train, y_test = train_test_split(X_dataset, y_dataset, test_size=0.33, random_state=42)\n",
    "\n",
    "le = preprocessing.LabelEncoder()\n",
    "le.fit(y_train)\n",
    "y_train_encoded = le.transform(y_train)\n",
    "y_test_encoded = le.transform(y_test)\n",
    "print(y_train_encoded)\n",
    "\n",
    "marvin_dataset = {'train_X': X_train, 'train_y': y_train_encoded, 'test_X': X_test, 'test_y': y_test_encoded}"
   ]
  },
  {
   "cell_type": "code",
   "execution_count": 3,
   "metadata": {},
   "outputs": [
    {
     "data": {
      "image/png": "[encoded data removed]",
      "text/plain": [
       "<Figure size 432x288 with 4 Axes>"
      ]
     },
     "metadata": {
      "needs_background": "light"
     },
     "output_type": "display_data"
    }
   ],
   "source": [
    "import matplotlib.pyplot as plt\n",
    "\n",
    "plt.subplot(221)\n",
    "plt.imshow(X_train[0])\n",
    "plt.subplot(222)\n",
    "plt.imshow(X_train[1])\n",
    "plt.subplot(223)\n",
    "plt.imshow(X_train[2])\n",
    "plt.subplot(224)\n",
    "plt.imshow(X_train[3])\n",
    "\n",
    "plt.show()"
   ]
  },
  {
   "cell_type": "markdown",
   "metadata": {},
   "source": [
    "# Trainer"
   ]
  },
  {
   "cell_type": "code",
   "execution_count": 4,
   "metadata": {
    "marvin_cell": "trainer"
   },
   "outputs": [
    {
     "name": "stdout",
     "output_type": "stream",
     "text": [
      "Train for 80 steps, validate for 20 steps\n",
      "80/80 [==============================] - ETA: 47s - loss: 2.5204 - accuracy: 0.0000e+0 - ETA: 27s - loss: 2.9325 - accuracy: 0.1094    - ETA: 20s - loss: 2.9458 - accuracy: 0.125 - ETA: 16s - loss: 3.0508 - accuracy: 0.140 - ETA: 14s - loss: 2.9038 - accuracy: 0.131 - ETA: 13s - loss: 2.8285 - accuracy: 0.130 - ETA: 12s - loss: 2.7716 - accuracy: 0.133 - ETA: 11s - loss: 2.7274 - accuracy: 0.128 - ETA: 10s - loss: 2.6980 - accuracy: 0.128 - ETA: 10s - loss: 2.6605 - accuracy: 0.134 - ETA: 9s - loss: 2.6407 - accuracy: 0.133 - ETA: 9s - loss: 2.6202 - accuracy: 0.14 - ETA: 8s - loss: 2.5975 - accuracy: 0.15 - ETA: 8s - loss: 2.5800 - accuracy: 0.17 - ETA: 8s - loss: 2.5618 - accuracy: 0.17 - ETA: 8s - loss: 2.5454 - accuracy: 0.17 - ETA: 7s - loss: 2.5354 - accuracy: 0.17 - ETA: 7s - loss: 2.5180 - accuracy: 0.17 - ETA: 7s - loss: 2.5044 - accuracy: 0.17 - ETA: 7s - loss: 2.4962 - accuracy: 0.17 - ETA: 6s - loss: 2.4806 - accuracy: 0.17 - ETA: 6s - loss: 2.4717 - accuracy: 0.17 - ETA: 6s - loss: 2.4567 - accuracy: 0.17 - ETA: 6s - loss: 2.4475 - accuracy: 0.17 - ETA: 6s - loss: 2.4364 - accuracy: 0.18 - ETA: 6s - loss: 2.4222 - accuracy: 0.18 - ETA: 5s - loss: 2.4067 - accuracy: 0.19 - ETA: 5s - loss: 2.3822 - accuracy: 0.20 - ETA: 5s - loss: 2.3763 - accuracy: 0.21 - ETA: 5s - loss: 2.3588 - accuracy: 0.21 - ETA: 5s - loss: 2.3399 - accuracy: 0.22 - ETA: 5s - loss: 2.3256 - accuracy: 0.23 - ETA: 5s - loss: 2.3089 - accuracy: 0.24 - ETA: 4s - loss: 2.2980 - accuracy: 0.24 - ETA: 4s - loss: 2.2849 - accuracy: 0.24 - ETA: 4s - loss: 2.2730 - accuracy: 0.25 - ETA: 4s - loss: 2.2543 - accuracy: 0.25 - ETA: 4s - loss: 2.2427 - accuracy: 0.26 - ETA: 4s - loss: 2.2289 - accuracy: 0.26 - ETA: 4s - loss: 2.2155 - accuracy: 0.26 - ETA: 4s - loss: 2.2062 - accuracy: 0.26 - ETA: 4s - loss: 2.1945 - accuracy: 0.26 - ETA: 3s - loss: 2.1776 - accuracy: 0.27 - ETA: 3s - loss: 2.1715 - accuracy: 0.27 - ETA: 3s - loss: 2.1620 - accuracy: 0.27 - ETA: 3s - loss: 2.1467 - accuracy: 0.27 - ETA: 3s - loss: 2.1314 - accuracy: 0.28 - ETA: 3s - loss: 2.1184 - accuracy: 0.28 - ETA: 3s - loss: 2.1073 - accuracy: 0.29 - ETA: 3s - loss: 2.1029 - accuracy: 0.29 - ETA: 3s - loss: 2.0931 - accuracy: 0.29 - ETA: 3s - loss: 2.0773 - accuracy: 0.30 - ETA: 2s - loss: 2.0625 - accuracy: 0.30 - ETA: 2s - loss: 2.0502 - accuracy: 0.31 - ETA: 2s - loss: 2.0439 - accuracy: 0.31 - ETA: 2s - loss: 2.0406 - accuracy: 0.31 - ETA: 2s - loss: 2.0290 - accuracy: 0.32 - ETA: 2s - loss: 2.0177 - accuracy: 0.32 - ETA: 2s - loss: 2.0105 - accuracy: 0.32 - ETA: 2s - loss: 2.0008 - accuracy: 0.33 - ETA: 2s - loss: 1.9900 - accuracy: 0.33 - ETA: 2s - loss: 1.9836 - accuracy: 0.33 - ETA: 1s - loss: 1.9705 - accuracy: 0.33 - ETA: 1s - loss: 1.9611 - accuracy: 0.34 - ETA: 1s - loss: 1.9517 - accuracy: 0.34 - ETA: 1s - loss: 1.9394 - accuracy: 0.34 - ETA: 1s - loss: 1.9265 - accuracy: 0.35 - ETA: 1s - loss: 1.9172 - accuracy: 0.35 - ETA: 1s - loss: 1.9124 - accuracy: 0.35 - ETA: 1s - loss: 1.9014 - accuracy: 0.35 - ETA: 1s - loss: 1.8945 - accuracy: 0.35 - ETA: 0s - loss: 1.8830 - accuracy: 0.36 - ETA: 0s - loss: 1.8753 - accuracy: 0.36 - ETA: 0s - loss: 1.8704 - accuracy: 0.36 - ETA: 0s - loss: 1.8602 - accuracy: 0.37 - ETA: 0s - loss: 1.8570 - accuracy: 0.37 - ETA: 0s - loss: 1.8465 - accuracy: 0.37 - ETA: 0s - loss: 1.8368 - accuracy: 0.38 - ETA: 0s - loss: 1.8340 - accuracy: 0.38 - 9s 116ms/step - loss: 1.8274 - accuracy: 0.3837 - val_loss: 1.1695 - val_accuracy: 0.5802\n"
     ]
    },
    {
     "data": {
      "text/html": [
       "<span style=\"color:#4527A0\"><h1 style=\"font-size:18px\">Trial complete</h1></span>"
      ],
      "text/plain": [
       "<IPython.core.display.HTML object>"
      ]
     },
     "metadata": {},
     "output_type": "display_data"
    },
    {
     "data": {
      "text/html": [
       "<span style=\"color:#4527A0\"><h1 style=\"font-size:18px\">Trial summary</h1></span>"
      ],
      "text/plain": [
       "<IPython.core.display.HTML object>"
      ]
     },
     "metadata": {},
     "output_type": "display_data"
    },
    {
     "data": {
      "text/html": [
       "<span style=\"color:cyan\"> |-Trial ID: 882e5be69a6e022f98fa89d3c3f49c69</span>"
      ],
      "text/plain": [
       "<IPython.core.display.HTML object>"
      ]
     },
     "metadata": {},
     "output_type": "display_data"
    },
    {
     "data": {
      "text/html": [
       "<span style=\"color:cyan\"> |-Score: 1.1694915384054183</span>"
      ],
      "text/plain": [
       "<IPython.core.display.HTML object>"
      ]
     },
     "metadata": {},
     "output_type": "display_data"
    },
    {
     "data": {
      "text/html": [
       "<span style=\"color:cyan\"> |-Best step: 0</span>"
      ],
      "text/plain": [
       "<IPython.core.display.HTML object>"
      ]
     },
     "metadata": {},
     "output_type": "display_data"
    },
    {
     "data": {
      "text/html": [
       "<span style=\"color:#7E57C2\"><h2 style=\"font-size:16px\">Hyperparameters:</h2></span>"
      ],
      "text/plain": [
       "<IPython.core.display.HTML object>"
      ]
     },
     "metadata": {},
     "output_type": "display_data"
    },
    {
     "data": {
      "text/html": [
       "<span style=\"color:cyan\"> |-classification_head_1/dropout_rate: 0.5</span>"
      ],
      "text/plain": [
       "<IPython.core.display.HTML object>"
      ]
     },
     "metadata": {},
     "output_type": "display_data"
    },
    {
     "data": {
      "text/html": [
       "<span style=\"color:blue\"> |-classification_head_1/spatial_reduction_1/reduction_type: flatten</span>"
      ],
      "text/plain": [
       "<IPython.core.display.HTML object>"
      ]
     },
     "metadata": {},
     "output_type": "display_data"
    },
    {
     "data": {
      "text/html": [
       "<span style=\"color:cyan\"> |-dense_block_1/dropout_rate: 0</span>"
      ],
      "text/plain": [
       "<IPython.core.display.HTML object>"
      ]
     },
     "metadata": {},
     "output_type": "display_data"
    },
    {
     "data": {
      "text/html": [
       "<span style=\"color:blue\"> |-dense_block_1/num_layers: 1</span>"
      ],
      "text/plain": [
       "<IPython.core.display.HTML object>"
      ]
     },
     "metadata": {},
     "output_type": "display_data"
    },
    {
     "data": {
      "text/html": [
       "<span style=\"color:cyan\"> |-dense_block_1/units_0: 128</span>"
      ],
      "text/plain": [
       "<IPython.core.display.HTML object>"
      ]
     },
     "metadata": {},
     "output_type": "display_data"
    },
    {
     "data": {
      "text/html": [
       "<span style=\"color:blue\"> |-dense_block_1/use_batchnorm: False</span>"
      ],
      "text/plain": [
       "<IPython.core.display.HTML object>"
      ]
     },
     "metadata": {},
     "output_type": "display_data"
    },
    {
     "data": {
      "text/html": [
       "<span style=\"color:cyan\"> |-image_block_1/augment: False</span>"
      ],
      "text/plain": [
       "<IPython.core.display.HTML object>"
      ]
     },
     "metadata": {},
     "output_type": "display_data"
    },
    {
     "data": {
      "text/html": [
       "<span style=\"color:blue\"> |-image_block_1/block_type: vanilla</span>"
      ],
      "text/plain": [
       "<IPython.core.display.HTML object>"
      ]
     },
     "metadata": {},
     "output_type": "display_data"
    },
    {
     "data": {
      "text/html": [
       "<span style=\"color:cyan\"> |-image_block_1/conv_block_1/dropout_rate: 0.25</span>"
      ],
      "text/plain": [
       "<IPython.core.display.HTML object>"
      ]
     },
     "metadata": {},
     "output_type": "display_data"
    },
    {
     "data": {
      "text/html": [
       "<span style=\"color:blue\"> |-image_block_1/conv_block_1/filters_0_0: 32</span>"
      ],
      "text/plain": [
       "<IPython.core.display.HTML object>"
      ]
     },
     "metadata": {},
     "output_type": "display_data"
    },
    {
     "data": {
      "text/html": [
       "<span style=\"color:cyan\"> |-image_block_1/conv_block_1/filters_0_1: 64</span>"
      ],
      "text/plain": [
       "<IPython.core.display.HTML object>"
      ]
     },
     "metadata": {},
     "output_type": "display_data"
    },
    {
     "data": {
      "text/html": [
       "<span style=\"color:blue\"> |-image_block_1/conv_block_1/kernel_size: 3</span>"
      ],
      "text/plain": [
       "<IPython.core.display.HTML object>"
      ]
     },
     "metadata": {},
     "output_type": "display_data"
    },
    {
     "data": {
      "text/html": [
       "<span style=\"color:cyan\"> |-image_block_1/conv_block_1/max_pooling: True</span>"
      ],
      "text/plain": [
       "<IPython.core.display.HTML object>"
      ]
     },
     "metadata": {},
     "output_type": "display_data"
    },
    {
     "data": {
      "text/html": [
       "<span style=\"color:blue\"> |-image_block_1/conv_block_1/num_blocks: 1</span>"
      ],
      "text/plain": [
       "<IPython.core.display.HTML object>"
      ]
     },
     "metadata": {},
     "output_type": "display_data"
    },
    {
     "data": {
      "text/html": [
       "<span style=\"color:cyan\"> |-image_block_1/conv_block_1/num_layers: 2</span>"
      ],
      "text/plain": [
       "<IPython.core.display.HTML object>"
      ]
     },
     "metadata": {},
     "output_type": "display_data"
    },
    {
     "data": {
      "text/html": [
       "<span style=\"color:blue\"> |-image_block_1/conv_block_1/separable: False</span>"
      ],
      "text/plain": [
       "<IPython.core.display.HTML object>"
      ]
     },
     "metadata": {},
     "output_type": "display_data"
    },
    {
     "data": {
      "text/html": [
       "<span style=\"color:cyan\"> |-image_block_1/normalize: True</span>"
      ],
      "text/plain": [
       "<IPython.core.display.HTML object>"
      ]
     },
     "metadata": {},
     "output_type": "display_data"
    },
    {
     "data": {
      "text/html": [
       "<span style=\"color:blue\"> |-optimizer: adam</span>"
      ],
      "text/plain": [
       "<IPython.core.display.HTML object>"
      ]
     },
     "metadata": {},
     "output_type": "display_data"
    },
    {
     "name": "stdout",
     "output_type": "stream",
     "text": [
      "INFO:tensorflow:Oracle triggered exit\n",
      "Train for 100 steps, validate for 20 steps\n",
      "100/100 [==============================] - ETA: 1:15 - loss: 2.6626 - accuracy: 0.06 - ETA: 44s - loss: 3.3248 - accuracy: 0.1406 - ETA: 34s - loss: 3.4054 - accuracy: 0.135 - ETA: 28s - loss: 3.5091 - accuracy: 0.125 - ETA: 25s - loss: 3.2851 - accuracy: 0.131 - ETA: 23s - loss: 3.1501 - accuracy: 0.130 - ETA: 21s - loss: 3.0473 - accuracy: 0.133 - ETA: 20s - loss: 2.9773 - accuracy: 0.136 - ETA: 19s - loss: 2.9214 - accuracy: 0.138 - ETA: 18s - loss: 2.8619 - accuracy: 0.156 - ETA: 17s - loss: 2.8245 - accuracy: 0.153 - ETA: 17s - loss: 2.7870 - accuracy: 0.164 - ETA: 16s - loss: 2.7513 - accuracy: 0.170 - ETA: 15s - loss: 2.7231 - accuracy: 0.169 - ETA: 15s - loss: 2.6976 - accuracy: 0.172 - ETA: 14s - loss: 2.6753 - accuracy: 0.169 - ETA: 14s - loss: 2.6599 - accuracy: 0.167 - ETA: 13s - loss: 2.6365 - accuracy: 0.170 - ETA: 13s - loss: 2.6189 - accuracy: 0.169 - ETA: 12s - loss: 2.6040 - accuracy: 0.164 - ETA: 12s - loss: 2.5845 - accuracy: 0.168 - ETA: 11s - loss: 2.5668 - accuracy: 0.166 - ETA: 11s - loss: 2.5527 - accuracy: 0.165 - ETA: 11s - loss: 2.5414 - accuracy: 0.164 - ETA: 10s - loss: 2.5262 - accuracy: 0.167 - ETA: 10s - loss: 2.5141 - accuracy: 0.170 - ETA: 10s - loss: 2.4971 - accuracy: 0.175 - ETA: 10s - loss: 2.4736 - accuracy: 0.185 - ETA: 9s - loss: 2.4642 - accuracy: 0.188 - ETA: 9s - loss: 2.4470 - accuracy: 0.19 - ETA: 9s - loss: 2.4282 - accuracy: 0.20 - ETA: 9s - loss: 2.4091 - accuracy: 0.21 - ETA: 8s - loss: 2.3918 - accuracy: 0.22 - ETA: 8s - loss: 2.3776 - accuracy: 0.22 - ETA: 8s - loss: 2.3618 - accuracy: 0.23 - ETA: 8s - loss: 2.3508 - accuracy: 0.23 - ETA: 8s - loss: 2.3314 - accuracy: 0.23 - ETA: 7s - loss: 2.3204 - accuracy: 0.24 - ETA: 7s - loss: 2.3074 - accuracy: 0.24 - ETA: 7s - loss: 2.2887 - accuracy: 0.24 - ETA: 7s - loss: 2.2791 - accuracy: 0.25 - ETA: 7s - loss: 2.2682 - accuracy: 0.25 - ETA: 7s - loss: 2.2548 - accuracy: 0.25 - ETA: 6s - loss: 2.2501 - accuracy: 0.25 - ETA: 6s - loss: 2.2407 - accuracy: 0.25 - ETA: 6s - loss: 2.2247 - accuracy: 0.25 - ETA: 6s - loss: 2.2113 - accuracy: 0.26 - ETA: 6s - loss: 2.2000 - accuracy: 0.26 - ETA: 6s - loss: 2.1922 - accuracy: 0.26 - ETA: 6s - loss: 2.1927 - accuracy: 0.27 - ETA: 5s - loss: 2.1830 - accuracy: 0.27 - ETA: 5s - loss: 2.1663 - accuracy: 0.27 - ETA: 5s - loss: 2.1507 - accuracy: 0.28 - ETA: 5s - loss: 2.1401 - accuracy: 0.28 - ETA: 5s - loss: 2.1345 - accuracy: 0.28 - ETA: 5s - loss: 2.1328 - accuracy: 0.28 - ETA: 5s - loss: 2.1200 - accuracy: 0.29 - ETA: 5s - loss: 2.1089 - accuracy: 0.29 - ETA: 5s - loss: 2.1021 - accuracy: 0.29 - ETA: 4s - loss: 2.0940 - accuracy: 0.30 - ETA: 4s - loss: 2.0868 - accuracy: 0.30 - ETA: 4s - loss: 2.0815 - accuracy: 0.30 - ETA: 4s - loss: 2.0714 - accuracy: 0.30 - ETA: 4s - loss: 2.0614 - accuracy: 0.30 - ETA: 4s - loss: 2.0499 - accuracy: 0.31 - ETA: 4s - loss: 2.0387 - accuracy: 0.31 - ETA: 4s - loss: 2.0256 - accuracy: 0.32 - ETA: 4s - loss: 2.0149 - accuracy: 0.32 - ETA: 3s - loss: 2.0067 - accuracy: 0.32 - ETA: 3s - loss: 1.9958 - accuracy: 0.32 - ETA: 3s - loss: 1.9888 - accuracy: 0.33 - ETA: 3s - loss: 1.9797 - accuracy: 0.33 - ETA: 3s - loss: 1.9729 - accuracy: 0.33 - ETA: 3s - loss: 1.9680 - accuracy: 0.33 - ETA: 3s - loss: 1.9575 - accuracy: 0.34 - ETA: 3s - loss: 1.9515 - accuracy: 0.34 - ETA: 2s - loss: 1.9411 - accuracy: 0.34 - ETA: 2s - loss: 1.9317 - accuracy: 0.34 - ETA: 2s - loss: 1.9287 - accuracy: 0.35 - ETA: 2s - loss: 1.9203 - accuracy: 0.35 - ETA: 2s - loss: 1.9177 - accuracy: 0.35 - ETA: 2s - loss: 1.9138 - accuracy: 0.35 - ETA: 2s - loss: 1.9051 - accuracy: 0.35 - ETA: 1s - loss: 1.9011 - accuracy: 0.35 - ETA: 1s - loss: 1.8909 - accuracy: 0.36 - ETA: 1s - loss: 1.8832 - accuracy: 0.36 - ETA: 1s - loss: 1.8734 - accuracy: 0.36 - ETA: 1s - loss: 1.8706 - accuracy: 0.36 - ETA: 1s - loss: 1.8630 - accuracy: 0.37 - ETA: 1s - loss: 1.8536 - accuracy: 0.37 - ETA: 1s - loss: 1.8461 - accuracy: 0.37 - ETA: 0s - loss: 1.8390 - accuracy: 0.37 - ETA: 0s - loss: 1.8297 - accuracy: 0.38 - ETA: 0s - loss: 1.8212 - accuracy: 0.38 - ETA: 0s - loss: 1.8113 - accuracy: 0.38 - ETA: 0s - loss: 1.8033 - accuracy: 0.39 - ETA: 0s - loss: 1.7936 - accuracy: 0.39 - ETA: 0s - loss: 1.7856 - accuracy: 0.39 - ETA: 0s - loss: 1.7781 - accuracy: 0.39 - 13s 128ms/step - loss: 1.7680 - accuracy: 0.4004 - val_loss: 0.8675 - val_accuracy: 0.7138\n"
     ]
    }
   ],
   "source": [
    "import autokeras as ak\n",
    "# Initialize the ImageClassifier.\n",
    "clf = ak.ImageClassifier(max_trials=1)\n",
    "# Search for the best model.\n",
    "clf.fit(marvin_dataset['train_X'], marvin_dataset['train_y'], epochs=1)\n",
    "\n",
    "marvin_model = clf\n"
   ]
  },
  {
   "cell_type": "code",
   "execution_count": 5,
   "metadata": {},
   "outputs": [
    {
     "ename": "ModuleNotFoundError",
     "evalue": "No module named 'keras'",
     "output_type": "error",
     "traceback": [
      "\u001b[0;31m---------------------------------------------------------------------------\u001b[0m",
      "\u001b[0;31mModuleNotFoundError\u001b[0m                       Traceback (most recent call last)",
      "\u001b[0;32m<ipython-input-5-a29725074a7f>\u001b[0m in \u001b[0;36m<module>\u001b[0;34m\u001b[0m\n\u001b[0;32m----> 1\u001b[0;31m \u001b[0;32mfrom\u001b[0m \u001b[0mkeras\u001b[0m\u001b[0;34m.\u001b[0m\u001b[0mmodels\u001b[0m \u001b[0;32mimport\u001b[0m \u001b[0mmodel_from_json\u001b[0m\u001b[0;34m\u001b[0m\u001b[0;34m\u001b[0m\u001b[0m\n\u001b[0m\u001b[1;32m      2\u001b[0m \u001b[0;32mtry\u001b[0m\u001b[0;34m:\u001b[0m\u001b[0;34m\u001b[0m\u001b[0;34m\u001b[0m\u001b[0m\n\u001b[1;32m      3\u001b[0m     \u001b[0mmodel\u001b[0m \u001b[0;34m=\u001b[0m \u001b[0mclf\u001b[0m\u001b[0;34m.\u001b[0m\u001b[0mexport_model\u001b[0m\u001b[0;34m(\u001b[0m\u001b[0;34m)\u001b[0m\u001b[0;34m\u001b[0m\u001b[0;34m\u001b[0m\u001b[0m\n\u001b[1;32m      4\u001b[0m     \u001b[0mprint\u001b[0m\u001b[0;34m(\u001b[0m\u001b[0mtype\u001b[0m\u001b[0;34m(\u001b[0m\u001b[0mmodel\u001b[0m\u001b[0;34m)\u001b[0m\u001b[0;34m)\u001b[0m  \u001b[0;31m# <class 'tensorflow.python.keras.engine.training.Model'>\u001b[0m\u001b[0;34m\u001b[0m\u001b[0;34m\u001b[0m\u001b[0m\n\u001b[1;32m      5\u001b[0m \u001b[0;32mexcept\u001b[0m\u001b[0;34m:\u001b[0m\u001b[0;34m\u001b[0m\u001b[0;34m\u001b[0m\u001b[0m\n",
      "\u001b[0;31mModuleNotFoundError\u001b[0m: No module named 'keras'"
     ]
    }
   ],
   "source": [
    "from keras.models import model_from_json\n",
    "try:\n",
    "    model = clf.export_model()\n",
    "    print(type(model))  # <class 'tensorflow.python.keras.engine.training.Model'>\n",
    "except:\n",
    "    print(\"Model has been created\")\n",
    "\n",
    "try:\n",
    "    model.save(\"model_autokeras\", save_format=\"tf\")\n",
    "    model.save(\"model_autokeras.h5\")\n",
    "except:\n",
    "    print(\"Model has been created\")\n",
    "\n",
    "from tensorflow.keras.models import load_model\n",
    "\n",
    "loaded_model = load_model(\"model_autokeras\",custom_objects=ak.CUSTOM_OBJECTS,compile=True)\n"
   ]
  },
  {
   "cell_type": "markdown",
   "metadata": {},
   "source": [
    "# Metrics Evaluator"
   ]
  },
  {
   "cell_type": "code",
   "execution_count": 7,
   "metadata": {
    "marvin_cell": "evaluator"
   },
   "outputs": [
    {
     "ename": "FileNotFoundError",
     "evalue": "[Errno 2] No such file or directory: '/home/bruno/marvin/data/train'",
     "output_type": "error",
     "traceback": [
      "\u001b[0;31m---------------------------------------------------------------------------\u001b[0m",
      "\u001b[0;31mFileNotFoundError\u001b[0m                         Traceback (most recent call last)",
      "\u001b[0;32m<ipython-input-7-af749351fe36>\u001b[0m in \u001b[0;36m<module>\u001b[0;34m\u001b[0m\n\u001b[1;32m      1\u001b[0m \u001b[0;32mfrom\u001b[0m \u001b[0mmarvin_python_toolbox\u001b[0m\u001b[0;34m.\u001b[0m\u001b[0mcommon\u001b[0m\u001b[0;34m.\u001b[0m\u001b[0mimage_loader\u001b[0m \u001b[0;32mimport\u001b[0m \u001b[0mImageLoader\u001b[0m\u001b[0;34m\u001b[0m\u001b[0;34m\u001b[0m\u001b[0m\n\u001b[1;32m      2\u001b[0m \u001b[0;34m\u001b[0m\u001b[0m\n\u001b[0;32m----> 3\u001b[0;31m \u001b[0mCLASS\u001b[0m \u001b[0;34m=\u001b[0m \u001b[0mdict\u001b[0m\u001b[0;34m(\u001b[0m\u001b[0mzip\u001b[0m\u001b[0;34m(\u001b[0m\u001b[0mImageLoader\u001b[0m\u001b[0;34m.\u001b[0m\u001b[0mget_class_names\u001b[0m\u001b[0;34m(\u001b[0m\u001b[0;34m)\u001b[0m\u001b[0;34m,\u001b[0m \u001b[0;34m[\u001b[0m\u001b[0mx\u001b[0m \u001b[0;32mfor\u001b[0m \u001b[0mx\u001b[0m \u001b[0;32min\u001b[0m \u001b[0mrange\u001b[0m\u001b[0;34m(\u001b[0m\u001b[0;36m0\u001b[0m\u001b[0;34m,\u001b[0m\u001b[0;36m12\u001b[0m\u001b[0;34m)\u001b[0m\u001b[0;34m]\u001b[0m\u001b[0;34m)\u001b[0m\u001b[0;34m)\u001b[0m\u001b[0;34m\u001b[0m\u001b[0;34m\u001b[0m\u001b[0m\n\u001b[0m\u001b[1;32m      4\u001b[0m \u001b[0mINV_CLASS\u001b[0m \u001b[0;34m=\u001b[0m \u001b[0;34m{\u001b[0m\u001b[0mv\u001b[0m\u001b[0;34m:\u001b[0m \u001b[0mk\u001b[0m \u001b[0;32mfor\u001b[0m \u001b[0mk\u001b[0m\u001b[0;34m,\u001b[0m \u001b[0mv\u001b[0m \u001b[0;32min\u001b[0m \u001b[0mCLASS\u001b[0m\u001b[0;34m.\u001b[0m\u001b[0mitems\u001b[0m\u001b[0;34m(\u001b[0m\u001b[0;34m)\u001b[0m\u001b[0;34m}\u001b[0m\u001b[0;34m\u001b[0m\u001b[0;34m\u001b[0m\u001b[0m\n\u001b[1;32m      5\u001b[0m \u001b[0;34m\u001b[0m\u001b[0m\n",
      "\u001b[0;32m~/.virtualenvs/autokeras-plant-engine-env/lib/python3.7/site-packages/marvin_python_toolbox/common/image_loader.py\u001b[0m in \u001b[0;36mget_class_names\u001b[0;34m(cls)\u001b[0m\n\u001b[1;32m     76\u001b[0m         \u001b[0mpath\u001b[0m \u001b[0;34m=\u001b[0m \u001b[0mcls\u001b[0m\u001b[0;34m.\u001b[0m\u001b[0mdata_path\u001b[0m\u001b[0;34m\u001b[0m\u001b[0;34m\u001b[0m\u001b[0m\n\u001b[1;32m     77\u001b[0m         \u001b[0mpath\u001b[0m \u001b[0;34m+=\u001b[0m \u001b[0;34m\"/train\"\u001b[0m\u001b[0;34m\u001b[0m\u001b[0;34m\u001b[0m\u001b[0m\n\u001b[0;32m---> 78\u001b[0;31m         \u001b[0mnames\u001b[0m \u001b[0;34m=\u001b[0m \u001b[0;34m[\u001b[0m\u001b[0mname\u001b[0m \u001b[0;32mfor\u001b[0m \u001b[0mname\u001b[0m \u001b[0;32min\u001b[0m \u001b[0mos\u001b[0m\u001b[0;34m.\u001b[0m\u001b[0mlistdir\u001b[0m\u001b[0;34m(\u001b[0m\u001b[0mpath\u001b[0m\u001b[0;34m)\u001b[0m \u001b[0;32mif\u001b[0m \u001b[0mos\u001b[0m\u001b[0;34m.\u001b[0m\u001b[0mpath\u001b[0m\u001b[0;34m.\u001b[0m\u001b[0misdir\u001b[0m\u001b[0;34m(\u001b[0m\u001b[0mos\u001b[0m\u001b[0;34m.\u001b[0m\u001b[0mpath\u001b[0m\u001b[0;34m.\u001b[0m\u001b[0mjoin\u001b[0m\u001b[0;34m(\u001b[0m\u001b[0mpath\u001b[0m\u001b[0;34m,\u001b[0m \u001b[0mname\u001b[0m\u001b[0;34m)\u001b[0m\u001b[0;34m)\u001b[0m\u001b[0;34m]\u001b[0m\u001b[0;34m\u001b[0m\u001b[0;34m\u001b[0m\u001b[0m\n\u001b[0m\u001b[1;32m     79\u001b[0m         \u001b[0mnames\u001b[0m\u001b[0;34m.\u001b[0m\u001b[0msort\u001b[0m\u001b[0;34m(\u001b[0m\u001b[0;34m)\u001b[0m\u001b[0;34m\u001b[0m\u001b[0;34m\u001b[0m\u001b[0m\n\u001b[1;32m     80\u001b[0m         \u001b[0;32mreturn\u001b[0m \u001b[0mnames\u001b[0m\u001b[0;34m\u001b[0m\u001b[0;34m\u001b[0m\u001b[0m\n",
      "\u001b[0;31mFileNotFoundError\u001b[0m: [Errno 2] No such file or directory: '/home/bruno/marvin/data/train'"
     ]
    }
   ],
   "source": [
    "from marvin_python_toolbox.common.image_loader import ImageLoader\n",
    "\n",
    "CLASS = dict(zip(ImageLoader.get_class_names(\"plant\",shape=(51,51)), [x for x in range(0,12)]))\n",
    "INV_CLASS = {v: k for k, v in CLASS.items()}\n",
    "\n",
    "# Evaluate on the testing data.\n",
    "prob = marvin_model.predict(marvin_dataset['test_X'])\n",
    "from sklearn.metrics import accuracy_score\n",
    "\n",
    "marvin_metrics = accuracy_score(marvin_dataset['test_y'], [INV_CLASS[p.argmax()] for p in prob])"
   ]
  },
  {
   "cell_type": "code",
   "execution_count": null,
   "metadata": {},
   "outputs": [],
   "source": [
    "## Maize image\n",
    "\n",
    "input_message = \"https://i.imgur.com/07KgELs.png\""
   ]
  },
  {
   "cell_type": "markdown",
   "metadata": {},
   "source": [
    "# Prediction Preparator"
   ]
  },
  {
   "cell_type": "code",
   "execution_count": null,
   "metadata": {
    "marvin_cell": "ppreparator"
   },
   "outputs": [],
   "source": [
    "import numpy as np\n",
    "from marvin_python_toolbox.common.image_loader import ImageLoader\n",
    "input_message = input_message\n",
    "img = ImageLoader.img_to_predict(input_message,shape=(51,51))\n",
    "img = np.expand_dims(img, axis=0)\n",
    "input_message = img"
   ]
  },
  {
   "cell_type": "code",
   "execution_count": null,
   "metadata": {
    "scrolled": true
   },
   "outputs": [],
   "source": [
    "import matplotlib.pyplot as plt\n",
    "\n",
    "plt.subplot(221)\n",
    "plt.imshow(img[0])"
   ]
  },
  {
   "cell_type": "markdown",
   "metadata": {},
   "source": [
    "# Predictor"
   ]
  },
  {
   "cell_type": "code",
   "execution_count": null,
   "metadata": {
    "marvin_cell": "predictor"
   },
   "outputs": [],
   "source": [
    "from marvin_python_toolbox.common.image_loader import ImageLoader\n",
    "CLASS = dict(zip(ImageLoader.get_class_names(\"plant\",shape=(51,51)), [x for x in range(0,12)]))\n",
    "INV_CLASS = {v: k for k, v in CLASS.items()}\n",
    "\n",
    "final_prediction = INV_CLASS[marvin_model.predict(input_message).argmax()]\n"
   ]
  },
  {
   "cell_type": "code",
   "execution_count": null,
   "metadata": {},
   "outputs": [],
   "source": []
  }
 ],
 "metadata": {
  "kernelspec": {
   "display_name": "Python 3",
   "language": "python",
   "name": "python3"
  },
  "language_info": {
   "codemirror_mode": {
    "name": "ipython",
    "version": 3
   },
   "file_extension": ".py",
   "mimetype": "text/x-python",
   "name": "python",
   "nbconvert_exporter": "python",
   "pygments_lexer": "ipython3",
   "version": "3.7.6"
  }
 },
 "nbformat": 4,
 "nbformat_minor": 4
}
